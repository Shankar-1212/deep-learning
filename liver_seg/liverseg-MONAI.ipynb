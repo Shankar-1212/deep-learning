{
  "cells": [
    {
      "cell_type": "markdown",
      "metadata": {
        "_cell_guid": "faf94e0c-9412-4aa0-8f81-1a30ece39f3e",
        "_kg_hide-input": false,
        "_uuid": "ab66f3b0-e9f9-4265-8afe-04f1b952dab8",
        "id": "GMvLJc3oKyqT",
        "trusted": true
      },
      "source": [
        "# **install and import**"
      ]
    },
    {
      "cell_type": "code",
      "execution_count": null,
      "metadata": {
        "_cell_guid": "8a57179d-ab88-4211-9323-d69612e2ae43",
        "_kg_hide-input": false,
        "_uuid": "4050b76d-49ac-425f-9f72-d10c2564eee1",
        "execution": {
          "iopub.execute_input": "2024-06-04T14:54:15.729147Z",
          "iopub.status.busy": "2024-06-04T14:54:15.728751Z",
          "iopub.status.idle": "2024-06-04T14:54:29.384521Z",
          "shell.execute_reply": "2024-06-04T14:54:29.383226Z",
          "shell.execute_reply.started": "2024-06-04T14:54:15.7291Z"
        },
        "id": "xmN7WObPKyqW",
        "jupyter": {
          "outputs_hidden": false
        },
        "outputId": "7bf1592c-85bb-48b2-9bcb-a9119a01641d",
        "trusted": true
      },
      "outputs": [
        {
          "name": "stdout",
          "output_type": "stream",
          "text": [
            "\u001b[33mWARNING: Running pip as the 'root' user can result in broken permissions and conflicting behaviour with the system package manager. It is recommended to use a virtual environment instead: https://pip.pypa.io/warnings/venv\u001b[0m\u001b[33m\n",
            "\u001b[0m"
          ]
        }
      ],
      "source": [
        "!pip install -q \"monai-weekly[nibabel, tqdm, einops]\"\n",
        "!python -c \"import matplotlib\" || pip install -q matplotlib\n",
        "%matplotlib inline"
      ]
    },
    {
      "cell_type": "code",
      "execution_count": null,
      "metadata": {
        "_cell_guid": "f6b978d5-f772-40d2-9254-b88900148487",
        "_kg_hide-input": false,
        "_uuid": "289c4593-4ef0-4d4f-8e5e-91d871757a84",
        "execution": {
          "iopub.execute_input": "2024-06-04T14:54:34.064582Z",
          "iopub.status.busy": "2024-06-04T14:54:34.063582Z",
          "iopub.status.idle": "2024-06-04T14:54:44.875658Z",
          "shell.execute_reply": "2024-06-04T14:54:44.874521Z",
          "shell.execute_reply.started": "2024-06-04T14:54:34.064543Z"
        },
        "id": "CviUyTt-KyqY",
        "outputId": "33fb4b3b-c736-4771-bd98-95464d5f0409",
        "trusted": true
      },
      "outputs": [
        {
          "name": "stdout",
          "output_type": "stream",
          "text": [
            "MONAI version: 1.2.dev2312\n",
            "Numpy version: 1.21.6\n",
            "Pytorch version: 1.11.0\n",
            "MONAI flags: HAS_EXT = False, USE_COMPILED = False, USE_META_DICT = False\n",
            "MONAI rev id: 400a6a052f1b2925db6f1323a67a7cf4546403eb\n",
            "MONAI __file__: /opt/conda/lib/python3.7/site-packages/monai/__init__.py\n",
            "\n",
            "Optional dependencies:\n",
            "Pytorch Ignite version: 0.4.10\n",
            "ITK version: NOT INSTALLED or UNKNOWN VERSION.\n",
            "Nibabel version: 4.0.2\n",
            "scikit-image version: 0.19.3\n",
            "Pillow version: 9.1.1\n",
            "Tensorboard version: 2.6.0\n",
            "gdown version: NOT INSTALLED or UNKNOWN VERSION.\n",
            "TorchVision version: 0.12.0\n",
            "tqdm version: 4.64.0\n",
            "lmdb version: 1.4.0\n",
            "psutil version: 5.9.1\n",
            "pandas version: 1.3.5\n",
            "einops version: 0.6.1\n",
            "transformers version: 4.20.1\n",
            "mlflow version: NOT INSTALLED or UNKNOWN VERSION.\n",
            "pynrrd version: NOT INSTALLED or UNKNOWN VERSION.\n",
            "\n",
            "For details about installing the optional dependencies, please visit:\n",
            "    https://docs.monai.io/en/latest/installation.html#installing-the-recommended-dependencies\n",
            "\n"
          ]
        }
      ],
      "source": [
        "import os\n",
        "import shutil\n",
        "import tempfile\n",
        "\n",
        "import matplotlib.pyplot as plt\n",
        "from tqdm import tqdm\n",
        "\n",
        "from monai.losses import DiceCELoss\n",
        "from monai.inferers import sliding_window_inference\n",
        "from monai.transforms import (\n",
        "    AsDiscrete,\n",
        "    EnsureChannelFirstd,\n",
        "    Compose,\n",
        "    CropForegroundd,\n",
        "    LoadImaged,\n",
        "    Orientationd,\n",
        "    RandFlipd,\n",
        "    RandCropByPosNegLabeld,\n",
        "    RandShiftIntensityd,\n",
        "    ScaleIntensityRanged,\n",
        "    Spacingd,\n",
        "    RandRotate90d,\n",
        "    ResizeWithPadOrCropd,\n",
        "    SpatialCrop\n",
        ")\n",
        "\n",
        "from monai.config import print_config\n",
        "from monai.metrics import DiceMetric\n",
        "from monai.networks.nets import UNETR,SwinUNETR,UNet\n",
        "\n",
        "from monai.data import (\n",
        "    CacheDataset,\n",
        "    DataLoader,\n",
        "    Dataset,\n",
        "    load_decathlon_datalist,\n",
        "    decollate_batch,\n",
        ")\n",
        "\n",
        "from monai.networks.layers import Norm\n",
        "import torch\n",
        "\n",
        "print_config()"
      ]
    },
    {
      "cell_type": "markdown",
      "metadata": {
        "_cell_guid": "5bf2e0a3-bfe8-48c1-b8ec-ecf4e91f64ba",
        "_kg_hide-input": false,
        "_uuid": "75beed43-a938-490b-9100-682d703d4c1c",
        "id": "zfHmZniLKyqa",
        "trusted": true
      },
      "source": [
        "# **Data Preparation**"
      ]
    },
    {
      "cell_type": "markdown",
      "metadata": {
        "_kg_hide-input": false,
        "id": "EeYI_XuGKyqb"
      },
      "source": [
        "I want to upload the images to the cache for faster training. To achieve this, I have excluded images that contain more than 450 slices."
      ]
    },
    {
      "cell_type": "code",
      "execution_count": null,
      "metadata": {
        "_cell_guid": "d0bd6243-c141-41ef-97e4-f561976cdc21",
        "_kg_hide-input": false,
        "_uuid": "db75d460-e068-483e-a37c-b794892145e6",
        "execution": {
          "iopub.execute_input": "2024-06-04T14:54:51.868174Z",
          "iopub.status.busy": "2024-06-04T14:54:51.867732Z",
          "iopub.status.idle": "2024-06-04T14:54:54.516432Z",
          "shell.execute_reply": "2024-06-04T14:54:54.51509Z",
          "shell.execute_reply.started": "2024-06-04T14:54:51.868125Z"
        },
        "id": "lXV0mvVAKyqc",
        "jupyter": {
          "outputs_hidden": false
        },
        "trusted": true
      },
      "outputs": [],
      "source": [
        "import nibabel as nib\n",
        "#image list\n",
        "img_files=[os.path.join(path[0],file) for path in os.walk('/kaggle/input/')   for file in path[-1]  if 'pt' in path[0] if 'vol' in file]\n",
        "len(img_files)\n",
        "img_files_for_trainig=[]\n",
        "for file in img_files:\n",
        "    n1_img_sh = nib.load(file).header.get_data_shape()\n",
        "\n",
        "    if     n1_img_sh[2]<300 and  n1_img_sh[2]>=64 :\n",
        "        img_files_for_trainig.append(file)\n"
      ]
    },
    {
      "cell_type": "code",
      "execution_count": null,
      "metadata": {
        "_kg_hide-input": false,
        "execution": {
          "iopub.execute_input": "2024-06-04T14:54:55.374626Z",
          "iopub.status.busy": "2024-06-04T14:54:55.373637Z",
          "iopub.status.idle": "2024-06-04T14:54:55.383025Z",
          "shell.execute_reply": "2024-06-04T14:54:55.381977Z",
          "shell.execute_reply.started": "2024-06-04T14:54:55.374584Z"
        },
        "id": "cgN1bpY9Kyqc",
        "outputId": "886f3231-4db9-4b22-98fe-6b7621ee94cb",
        "trusted": true
      },
      "outputs": [
        {
          "data": {
            "text/plain": [
              "54"
            ]
          },
          "execution_count": 5,
          "metadata": {},
          "output_type": "execute_result"
        }
      ],
      "source": [
        "len(img_files_for_trainig)"
      ]
    },
    {
      "cell_type": "code",
      "execution_count": null,
      "metadata": {
        "_cell_guid": "102c3787-b2cb-46dc-b091-326d60498609",
        "_kg_hide-input": false,
        "_uuid": "28733066-174e-42dc-83d1-2478fc23e114",
        "execution": {
          "iopub.execute_input": "2024-06-04T14:54:57.829502Z",
          "iopub.status.busy": "2024-06-04T14:54:57.829058Z",
          "iopub.status.idle": "2024-06-04T14:54:57.835782Z",
          "shell.execute_reply": "2024-06-04T14:54:57.83477Z",
          "shell.execute_reply.started": "2024-06-04T14:54:57.829466Z"
        },
        "id": "m6HZsnpGKyqd",
        "jupyter": {
          "outputs_hidden": false
        },
        "outputId": "09b6ebc0-299a-4d8e-bf15-88208fb68c22",
        "trusted": true
      },
      "outputs": [
        {
          "name": "stdout",
          "output_type": "stream",
          "text": [
            "/kaggle/input/liver-tumor-segmentation/volume_pt3/volume-28.nii /kaggle/input/liver-tumor-segmentation/segmentations/segmentation-28.nii\n"
          ]
        }
      ],
      "source": [
        "#segmentaim list\n",
        "seg_path='/kaggle/input/liver-tumor-segmentation/segmentations/'\n",
        "\n",
        "\n",
        "seg_files=[seg_path+'segmentation-'+file.split('-')[-1] for file in img_files_for_trainig]\n",
        "print(img_files_for_trainig[2],seg_files[2])"
      ]
    },
    {
      "cell_type": "code",
      "execution_count": null,
      "metadata": {
        "_cell_guid": "9f7cadfc-5908-49b2-8e66-1c1c68cc43fb",
        "_kg_hide-input": false,
        "_uuid": "3458a0c8-a604-4b14-969b-9ac4c343e90e",
        "execution": {
          "iopub.execute_input": "2024-06-04T14:54:59.722474Z",
          "iopub.status.busy": "2024-06-04T14:54:59.721436Z",
          "iopub.status.idle": "2024-06-04T14:54:59.7282Z",
          "shell.execute_reply": "2024-06-04T14:54:59.727151Z",
          "shell.execute_reply.started": "2024-06-04T14:54:59.722432Z"
        },
        "id": "o3xkc7cyKyqf",
        "jupyter": {
          "outputs_hidden": false
        },
        "trusted": true
      },
      "outputs": [],
      "source": [
        "#monai dataset need dictonary\n",
        "data_dicts = [{\"image\": image_name, \"label\": label_name} for image_name, label_name in zip(img_files_for_trainig, seg_files)]\n",
        "train_files, val_files,test_files = data_dicts[:-2], data_dicts[-2:-1],data_dicts[-1:]"
      ]
    },
    {
      "cell_type": "code",
      "execution_count": null,
      "metadata": {
        "_kg_hide-input": false,
        "execution": {
          "iopub.execute_input": "2024-06-04T14:55:05.30107Z",
          "iopub.status.busy": "2024-06-04T14:55:05.300694Z",
          "iopub.status.idle": "2024-06-04T14:55:07.409768Z",
          "shell.execute_reply": "2024-06-04T14:55:07.408611Z",
          "shell.execute_reply.started": "2024-06-04T14:55:05.301037Z"
        },
        "id": "0HcLnlJ-Kyqf",
        "outputId": "9f2b97a4-d2c0-41a5-eb50-ff8af8010b63",
        "trusted": true
      },
      "outputs": [
        {
          "data": {
            "text/plain": [
              "(512, 512, 276)"
            ]
          },
          "execution_count": 8,
          "metadata": {},
          "output_type": "execute_result"
        }
      ],
      "source": [
        "n1_img_sh = nib.load(data_dicts[0]['image'])#.header.get_data_shape()\n",
        "data = n1_img_sh.get_fdata()\n",
        "\n",
        "data.shape"
      ]
    },
    {
      "cell_type": "markdown",
      "metadata": {
        "_cell_guid": "fef5ce97-5f71-49e1-861e-8afe425c3142",
        "_kg_hide-input": false,
        "_uuid": "9658a87b-acfd-42ac-841b-315c4543804d",
        "id": "0cujVrBDKyqh",
        "trusted": true
      },
      "source": [
        "# **Setup transforms for training and validation**"
      ]
    },
    {
      "cell_type": "code",
      "execution_count": null,
      "metadata": {
        "_kg_hide-input": false,
        "execution": {
          "iopub.execute_input": "2024-06-04T14:56:42.031206Z",
          "iopub.status.busy": "2024-06-04T14:56:42.030058Z",
          "iopub.status.idle": "2024-06-04T14:56:42.036978Z",
          "shell.execute_reply": "2024-06-04T14:56:42.036087Z",
          "shell.execute_reply.started": "2024-06-04T14:56:42.031163Z"
        },
        "id": "RaBxlrxqKyqi",
        "trusted": true
      },
      "outputs": [],
      "source": [
        "class ToLiver(object):\n",
        "    \"\"\"Convert ndarrays in sample to Tensors.\"\"\"\n",
        "\n",
        "    def __call__(self, sample):\n",
        "        image, label = sample['image'], sample['label']\n",
        "        label[label==1]=0\n",
        "        label[label==2]=1\n",
        "\n",
        "        return {'image': image,\n",
        "                'label': label}"
      ]
    },
    {
      "cell_type": "code",
      "execution_count": null,
      "metadata": {
        "_cell_guid": "48630e79-653c-486b-972d-423180242af3",
        "_kg_hide-input": false,
        "_uuid": "cab19329-9be1-41c3-958e-b274258481ea",
        "execution": {
          "iopub.execute_input": "2024-06-04T14:56:43.652002Z",
          "iopub.status.busy": "2024-06-04T14:56:43.651033Z",
          "iopub.status.idle": "2024-06-04T14:56:43.671786Z",
          "shell.execute_reply": "2024-06-04T14:56:43.670661Z",
          "shell.execute_reply.started": "2024-06-04T14:56:43.651954Z"
        },
        "id": "xpz2a3byKyqi",
        "jupyter": {
          "outputs_hidden": false
        },
        "outputId": "c23df905-6563-4f77-9ab7-8fee01c9fdc0",
        "trusted": true
      },
      "outputs": [
        {
          "name": "stderr",
          "output_type": "stream",
          "text": [
            "/opt/conda/lib/python3.7/site-packages/monai/utils/deprecate_utils.py:321: FutureWarning: monai.transforms.io.dictionary LoadImaged.__init__:image_only: Current default value of argument `image_only=False` has been deprecated since version 1.1. It will be changed to `image_only=True` in version 1.3.\n",
            "  warn_deprecated(argname, msg, warning_category)\n"
          ]
        }
      ],
      "source": [
        "train_transforms = Compose(\n",
        "    [\n",
        "        LoadImaged(keys=[\"image\", \"label\"]),\n",
        "        EnsureChannelFirstd(keys=[\"image\", \"label\"]),\n",
        "        Orientationd(keys=[\"image\", \"label\"], axcodes=\"RAS\"),\n",
        "\n",
        "        ScaleIntensityRanged(\n",
        "            keys=[\"image\"],\n",
        "            a_min=-57,\n",
        "            a_max=164,\n",
        "            b_min=0.0,\n",
        "            b_max=1.0,\n",
        "            clip=True,\n",
        "        ),\n",
        "        CropForegroundd(keys=[\"image\", \"label\"], source_key=\"image\"),\n",
        "        RandCropByPosNegLabeld(\n",
        "            keys=[\"image\", \"label\"],\n",
        "            label_key=\"label\",\n",
        "            spatial_size=(64,64, 64), #64\n",
        "            pos=1,\n",
        "            neg=1,\n",
        "            num_samples=1,\n",
        "            image_key=\"image\",\n",
        "            image_threshold=0,\n",
        "        ),\n",
        "\n",
        "        RandFlipd(\n",
        "            keys=[\"image\", \"label\"],\n",
        "            spatial_axis=[0],\n",
        "            prob=0.1,\n",
        "        ),\n",
        "        RandFlipd(\n",
        "            keys=[\"image\", \"label\"],\n",
        "            spatial_axis=[1],\n",
        "            prob=0.1,\n",
        "        ),\n",
        "        RandFlipd(\n",
        "            keys=[\"image\", \"label\"],\n",
        "            spatial_axis=[2],\n",
        "            prob=0.1,\n",
        "        ),\n",
        "        RandRotate90d(\n",
        "            keys=[\"image\", \"label\"],\n",
        "            prob=0.1,\n",
        "            max_k=3,\n",
        "        ),\n",
        "        ToLiver()\n",
        "    ]\n",
        ")"
      ]
    },
    {
      "cell_type": "code",
      "execution_count": null,
      "metadata": {
        "_cell_guid": "a9e8d256-a8d4-4a73-934d-8fb6bbec001b",
        "_kg_hide-input": false,
        "_uuid": "e5962d22-c0f2-4439-979c-aec537b39d50",
        "execution": {
          "iopub.execute_input": "2024-06-04T14:57:16.473444Z",
          "iopub.status.busy": "2024-06-04T14:57:16.472474Z",
          "iopub.status.idle": "2024-06-04T14:57:16.482091Z",
          "shell.execute_reply": "2024-06-04T14:57:16.480978Z",
          "shell.execute_reply.started": "2024-06-04T14:57:16.473392Z"
        },
        "id": "DAn2rFzLKyqj",
        "jupyter": {
          "outputs_hidden": false
        },
        "trusted": true
      },
      "outputs": [],
      "source": [
        "val_transforms = Compose(\n",
        "    [\n",
        "        LoadImaged(keys=[\"image\", \"label\"]),\n",
        "        EnsureChannelFirstd(keys=[\"image\", \"label\"]),\n",
        "        Orientationd(keys=[\"image\", \"label\"], axcodes=\"RAS\"),\n",
        "\n",
        "        ScaleIntensityRanged(keys=[\"image\"], a_min=-57, a_max=164, b_min=0.0, b_max=1.0, clip=True),\n",
        "        #CropForegroundd(keys=[\"image\", \"label\"], source_key=\"image\"),\n",
        "        ToLiver()\n",
        "    ]\n",
        ")"
      ]
    },
    {
      "cell_type": "code",
      "execution_count": null,
      "metadata": {
        "_cell_guid": "7973f113-a015-48a7-8031-d6a7f15d9e58",
        "_kg_hide-input": false,
        "_uuid": "d148e500-9de7-4a8f-941f-47c9c60a6e35",
        "execution": {
          "iopub.execute_input": "2024-06-04T14:57:19.396247Z",
          "iopub.status.busy": "2024-06-04T14:57:19.39552Z",
          "iopub.status.idle": "2024-06-04T15:00:02.092974Z",
          "shell.execute_reply": "2024-06-04T15:00:02.091771Z",
          "shell.execute_reply.started": "2024-06-04T14:57:19.396209Z"
        },
        "id": "oJZtvQe2Kyqk",
        "jupyter": {
          "outputs_hidden": false
        },
        "outputId": "c469a519-829c-48e4-9858-a1df46445e23",
        "trusted": true
      },
      "outputs": [
        {
          "name": "stderr",
          "output_type": "stream",
          "text": [
            "Loading dataset:  15%|█▌        | 8/52 [00:24<02:09,  2.94s/it]pixdim[0] (qfac) should be 1 (default) or -1; setting qfac to 1\n",
            "Loading dataset:  21%|██        | 11/52 [00:33<01:53,  2.77s/it]pixdim[0] (qfac) should be 1 (default) or -1; setting qfac to 1\n",
            "Loading dataset:  29%|██▉       | 15/52 [00:42<01:18,  2.11s/it]pixdim[0] (qfac) should be 1 (default) or -1; setting qfac to 1\n",
            "Loading dataset:  58%|█████▊    | 30/52 [01:15<00:43,  1.96s/it]pixdim[0] (qfac) should be 1 (default) or -1; setting qfac to 1\n",
            "Loading dataset:  87%|████████▋ | 45/52 [02:11<00:31,  4.53s/it]pixdim[0] (qfac) should be 1 (default) or -1; setting qfac to 1\n",
            "Loading dataset: 100%|██████████| 52/52 [02:42<00:00,  3.13s/it]\n"
          ]
        }
      ],
      "source": [
        "#create data set with the transform for the train and val\n",
        "\n",
        "\n",
        "train_ds =CacheDataset(\n",
        "    data=train_files,\n",
        "    transform=train_transforms,\n",
        ")\n",
        "train_loader = DataLoader(train_ds, batch_size=1, shuffle=True)\n",
        "\n"
      ]
    },
    {
      "cell_type": "code",
      "execution_count": null,
      "metadata": {
        "_kg_hide-input": false,
        "execution": {
          "iopub.execute_input": "2024-06-04T15:00:02.096229Z",
          "iopub.status.busy": "2024-06-04T15:00:02.095386Z",
          "iopub.status.idle": "2024-06-04T15:00:02.101108Z",
          "shell.execute_reply": "2024-06-04T15:00:02.100112Z",
          "shell.execute_reply.started": "2024-06-04T15:00:02.096178Z"
        },
        "id": "kB91imEUKyqk",
        "trusted": true
      },
      "outputs": [],
      "source": [
        "val_ds =Dataset(\n",
        "    data=val_files,\n",
        "    transform=val_transforms,\n",
        ")"
      ]
    },
    {
      "cell_type": "code",
      "execution_count": null,
      "metadata": {
        "_cell_guid": "ad1fe0c0-49c7-471b-ab63-49b36666f096",
        "_kg_hide-input": false,
        "_uuid": "c3cb1e08-3232-435f-abe3-852c99723325",
        "execution": {
          "iopub.execute_input": "2024-06-04T15:43:53.959888Z",
          "iopub.status.busy": "2024-06-04T15:43:53.95941Z",
          "iopub.status.idle": "2024-06-04T15:43:59.180237Z",
          "shell.execute_reply": "2024-06-04T15:43:59.179157Z",
          "shell.execute_reply.started": "2024-06-04T15:43:53.959849Z"
        },
        "id": "hGtP0eVPKyqm",
        "jupyter": {
          "outputs_hidden": false
        },
        "outputId": "7345e9de-7951-4d6c-ed50-03f6f20040ad",
        "trusted": true
      },
      "outputs": [
        {
          "name": "stdout",
          "output_type": "stream",
          "text": [
            "image shape: torch.Size([1, 512, 512, 230]), label shape: torch.Size([1, 512, 512, 230])\n"
          ]
        },
        {
          "data": {
            "image/png": "[encoded data removed]",
            "text/plain": [
              "<Figure size 1296x432 with 2 Axes>"
            ]
          },
          "metadata": {
            "needs_background": "light"
          },
          "output_type": "display_data"
        }
      ],
      "source": [
        "img = val_ds[0][\"image\"]\n",
        "label = val_ds[0][\"label\"]\n",
        "img_shape = img.shape\n",
        "label_shape = label.shape\n",
        "print(f\"image shape: {img_shape}, label shape: {label_shape}\")\n",
        "plt.figure(\"image\", (18, 6))\n",
        "plt.subplot(1, 2, 1)\n",
        "plt.title(\"image\")\n",
        "plt.imshow(img[ 0,:, :,-30].detach().cpu(), cmap=\"gray\")\n",
        "plt.subplot(1, 2, 2)\n",
        "plt.title(\"label\")\n",
        "plt.imshow(label[0, :, :, -30].detach().cpu())\n",
        "plt.show()"
      ]
    },
    {
      "cell_type": "code",
      "execution_count": null,
      "metadata": {
        "_kg_hide-input": false,
        "execution": {
          "iopub.execute_input": "2024-06-04T15:53:10.884058Z",
          "iopub.status.busy": "2024-06-04T15:53:10.882996Z"
        },
        "id": "ZzgP4G13Kyqm",
        "trusted": true
      },
      "outputs": [],
      "source": [
        "import numpy as np\n",
        "from numpy import random\n",
        "from monai.data import PatchDataset, DataLoader, PatchIter\n",
        "inds=[]\n",
        "def Crop_label(label):\n",
        "    r=[]\n",
        "    b=0\n",
        "    liver=0\n",
        "    tumor=0\n",
        "\n",
        "    if label.shape[0]==1:\n",
        "        label=label[0]\n",
        "    x,y,z=label.shape\n",
        "    while(tumor<10):\n",
        "        i = random.randint(x-128)\n",
        "        j = random.randint(y-128)\n",
        "        k = random.randint(z-32)\n",
        "\n",
        "\n",
        "        unique_num=np.unique(label[i:i+128,j:j+128,k:k+32])\n",
        "        if 2 in unique_num and tumor<10:\n",
        "            tumor=tumor+1\n",
        "\n",
        "            inds.append([i,j,k])\n",
        "        '''\n",
        "        elif 2 not in unique_num and 1 in unique_num and liver<5:\n",
        "            liver=liver+1\n",
        "            inds.append([i,j,k])\n",
        "        elif 2 not in unique_num and 1 not in unique_num and b<0:\n",
        "            b=b+1\n",
        "            inds.append([i,j,k])\n",
        "       '''\n",
        "\n",
        "\n",
        "    return  inds\n",
        "\n",
        "\n",
        "\n",
        "def Crop_img(img):\n",
        "    r=[]\n",
        "    b=0\n",
        "    liver=0\n",
        "    tumor=0\n",
        "\n",
        "    if img.shape[0]==1:\n",
        "        img=img[0]\n",
        "    x,y,z=img.shape\n",
        "    for ind in inds:\n",
        "        i,j,k=ind\n",
        "\n",
        "        r.append(img[i:i+128,j:j+128,k:k+32])\n",
        "\n",
        "\n",
        "    return r\n",
        "\n",
        "# imaabsge-level dataset\n",
        "img = val_ds[0][\"image\"]\n",
        "\n",
        "print(img.shape)\n",
        "label = val_ds[0][\"label\"]\n",
        "\n",
        "# image patch sampler\n",
        "n_samples = 10\n",
        "# patch-level intensity shifts\n",
        "# construct the patch dataset\n",
        "\n",
        "inds=Crop_label(label)\n",
        "\n",
        "ds_l = PatchDataset(data=label,\n",
        "                  patch_func=Crop_img,\n",
        "                  samples_per_image=n_samples)\n",
        "print(inds)\n",
        "ds_i = PatchDataset(data=img,\n",
        "                  patch_func=Crop_img,\n",
        "                  samples_per_image=n_samples)\n",
        "\n",
        "\n",
        "\n",
        "val_loader1=DataLoader(ds_i, batch_size=1, shuffle=False, num_workers=1)\n",
        "val_loader2=DataLoader(ds_l, batch_size=1, shuffle=False, num_workers=1)\n",
        "\n",
        "#y=DataLoader(label_ds, batch_size=1, shuffle=False, num_workers=2)\n",
        "\n",
        "for i,item1 in enumerate(zip(val_loader1,val_loader2)):\n",
        "    plt.figure(\"image\", (18, 6))\n",
        "    plt.subplot(1, 2, 1)\n",
        "    plt.imshow(item1[0][0,:, :, 5].detach().cpu(), cmap=\"gray\")\n",
        "    plt.subplot(1, 2, 2)\n",
        "    plt.imshow(item1[1][0,:, :, 5].detach().cpu())\n",
        "    plt.show()\n",
        "\n"
      ]
    },
    {
      "cell_type": "markdown",
      "metadata": {
        "_cell_guid": "90b48a77-b493-4d4d-a1ef-eaf9916e561c",
        "_kg_hide-input": false,
        "_uuid": "dec3b1f0-9b8d-4291-a211-251d42d1873c",
        "id": "TEIIurXxKyqm",
        "trusted": true
      },
      "source": [
        "\n",
        "# **Check data shape and visualize**"
      ]
    },
    {
      "cell_type": "code",
      "execution_count": null,
      "metadata": {
        "_cell_guid": "0a5578a9-0361-4921-be1c-bd4f17902091",
        "_kg_hide-input": false,
        "_uuid": "6045a4fe-cc0f-48ec-9397-4b08b68e9b02",
        "execution": {
          "iopub.execute_input": "2024-06-04T15:01:18.029604Z",
          "iopub.status.busy": "2024-06-04T15:01:18.028839Z",
          "iopub.status.idle": "2024-06-04T15:01:23.014459Z",
          "shell.execute_reply": "2024-06-04T15:01:23.013354Z",
          "shell.execute_reply.started": "2024-06-04T15:01:18.029555Z"
        },
        "id": "6snIU9dvKyqn",
        "jupyter": {
          "outputs_hidden": false
        },
        "outputId": "c1284e53-90d0-4915-ddea-6a274b9a8501",
        "trusted": true
      },
      "outputs": [
        {
          "name": "stderr",
          "output_type": "stream",
          "text": [
            "/opt/conda/lib/python3.7/site-packages/monai/networks/nets/unet.py:136: UserWarning: `len(strides) > len(channels) - 1`, the last 1 values of strides will not be used.\n",
            "  warnings.warn(f\"`len(strides) > len(channels) - 1`, the last {delta} values of strides will not be used.\")\n"
          ]
        }
      ],
      "source": [
        "## from monai.networks.nets import TopologyInstance\n",
        "from  monai.networks.nets import TopologySearch\n",
        "from monai.networks.nets import AHNet,UNet\n",
        "root_dir='/kaggle/working'\n",
        "from monai.apps import load_from_mmar\n",
        "device = torch.device(\"cuda\" if torch.cuda.is_available() else \"cpu\")\n",
        "\n",
        "\n",
        "\n",
        "##model=AHNet(layers=(2,2,2,2), spatial_dims=3, in_channels=1, out_channels=2\n",
        "  ##                              , psp_block_num=1, upsample_mode='transpose', pretrained=True, progress=True).to(device)\n",
        "\n",
        "#model=VNet(spatial_dims=3, in_channels=1, out_channels=3).to(device)\n",
        "'''\n",
        "arch_mode=torch.load('/kaggle/input/search-code/search_code_18590.pt')\n",
        "dints_space=TopologyInstance(\n",
        "     channel_mul=1.0,\n",
        "      num_blocks=12,\n",
        "     num_depths=4, spatial_dims=3, act_name='RELU',\n",
        "      use_downsample=True,\n",
        "    arch_code=[arch_mode['arch_code_a'],arch_mode['arch_code_c']]).to(device)\n",
        "\n",
        "model = DiNTS(dints_space, 1, 3, act_name='RELU',\n",
        " #model               spatial_dims=3, use_downsample=True,\n",
        "                node_a= torch.from_numpy(arch_mode['node_a'])).to(device)\n",
        "\n",
        "'''\n",
        "\n",
        "model =UNet(\n",
        "    spatial_dims=3,\n",
        "    in_channels=1,\n",
        "    out_channels=2,\n",
        "    channels= (16,32,64,128,256,512),\n",
        "    strides=(2,2,2,2,2,2),\n",
        ").to(device)\n",
        "\n",
        "\n",
        "#model=BasicUNetPlusPlus(spatial_dims=3, in_channels=1, out_channels=3).to(device)\n",
        "loss_function = DiceCELoss(to_onehot_y=True, softmax=True)\n",
        "torch.backends.cudnn.benchmark = True\n",
        "optimizer = torch.optim.Adam(model.parameters(), lr=1e-4)\n",
        "\n"
      ]
    },
    {
      "cell_type": "markdown",
      "metadata": {
        "_kg_hide-input": false,
        "id": "rFF8QvfpKyqn"
      },
      "source": [
        "\n"
      ]
    },
    {
      "cell_type": "code",
      "execution_count": null,
      "metadata": {
        "_cell_guid": "4060fb79-de14-4abc-bdc8-41c6f5685acf",
        "_kg_hide-input": false,
        "_uuid": "2dd6921f-b670-41cb-95a3-df8f96e15352",
        "execution": {
          "iopub.execute_input": "2024-06-04T15:07:08.136456Z",
          "iopub.status.busy": "2024-06-04T15:07:08.135458Z",
          "iopub.status.idle": "2024-06-04T15:32:35.623969Z",
          "shell.execute_reply": "2024-06-04T15:32:35.622342Z",
          "shell.execute_reply.started": "2024-06-04T15:07:08.136407Z"
        },
        "id": "_FUMBlXxKyqo",
        "jupyter": {
          "outputs_hidden": false
        },
        "outputId": "851b2135-5cea-42d1-b7f2-c80e079fb6c7",
        "trusted": true
      },
      "outputs": [
        {
          "name": "stderr",
          "output_type": "stream",
          "text": [
            "Training (51 / 10000 Steps) (loss=0.71950): 100%|██████████| 52/52 [00:24<00:00,  2.16it/s]\n",
            "Training (103 / 10000 Steps) (loss=0.69035): 100%|██████████| 52/52 [00:23<00:00,  2.20it/s]\n",
            "Training (155 / 10000 Steps) (loss=0.66976): 100%|██████████| 52/52 [00:24<00:00,  2.15it/s]\n",
            "Training (207 / 10000 Steps) (loss=0.75598): 100%|██████████| 52/52 [00:24<00:00,  2.14it/s]\n",
            "Training (259 / 10000 Steps) (loss=0.63769): 100%|██████████| 52/52 [00:24<00:00,  2.14it/s]\n",
            "Training (311 / 10000 Steps) (loss=0.65220): 100%|██████████| 52/52 [00:24<00:00,  2.17it/s]\n",
            "Training (363 / 10000 Steps) (loss=0.62036): 100%|██████████| 52/52 [00:23<00:00,  2.17it/s]\n",
            "Training (415 / 10000 Steps) (loss=0.72312): 100%|██████████| 52/52 [00:23<00:00,  2.17it/s]\n",
            "Training (467 / 10000 Steps) (loss=0.67032): 100%|██████████| 52/52 [00:24<00:00,  2.15it/s]\n",
            "Training (500 / 10000 Steps) (loss=0.57708):  62%|██████▏   | 32/52 [00:15<00:10,  1.99it/s]\n",
            "Training (500 / 10000 Steps) (loss=0.57708):  63%|██████▎   | 33/52 [00:40<02:31,  7.99s/it]"
          ]
        },
        {
          "name": "stdout",
          "output_type": "stream",
          "text": [
            "Model Was Saved ! Current Best Avg. Dice: 0.947231113910675 Current Avg. Dice: 0.947231113910675\n"
          ]
        },
        {
          "name": "stderr",
          "output_type": "stream",
          "text": [
            "Training (519 / 10000 Steps) (loss=0.61273): 100%|██████████| 52/52 [00:48<00:00,  1.07it/s]\n",
            "Validate (X / X Steps) (dice=X.X):   0%|          | 0/200 [00:32<?, ?it/s]\n",
            "Training (571 / 10000 Steps) (loss=0.56814): 100%|██████████| 52/52 [00:24<00:00,  2.13it/s]\n",
            "Training (623 / 10000 Steps) (loss=0.56603): 100%|██████████| 52/52 [00:24<00:00,  2.13it/s]\n",
            "Training (675 / 10000 Steps) (loss=0.56370): 100%|██████████| 52/52 [00:24<00:00,  2.14it/s]\n",
            "Training (727 / 10000 Steps) (loss=0.55429): 100%|██████████| 52/52 [00:23<00:00,  2.18it/s]\n",
            "Training (779 / 10000 Steps) (loss=0.56636): 100%|██████████| 52/52 [00:24<00:00,  2.12it/s]\n",
            "Training (831 / 10000 Steps) (loss=0.56580): 100%|██████████| 52/52 [00:24<00:00,  2.13it/s]\n",
            "Training (883 / 10000 Steps) (loss=0.55359): 100%|██████████| 52/52 [00:24<00:00,  2.12it/s]\n",
            "Training (935 / 10000 Steps) (loss=3.13068): 100%|██████████| 52/52 [00:23<00:00,  2.17it/s]\n",
            "Training (987 / 10000 Steps) (loss=0.54079): 100%|██████████| 52/52 [00:24<00:00,  2.11it/s]\n",
            "Training (1000 / 10000 Steps) (loss=0.55236):  23%|██▎       | 12/52 [00:06<00:21,  1.87it/s]\n",
            "Training (1000 / 10000 Steps) (loss=0.55236):  25%|██▌       | 13/52 [00:31<05:10,  7.97s/it]"
          ]
        },
        {
          "name": "stdout",
          "output_type": "stream",
          "text": [
            "Model Was Not Saved ! Current Best Avg. Dice: 0.947231113910675 Current Avg. Dice: 0.947231113910675\n"
          ]
        },
        {
          "name": "stderr",
          "output_type": "stream",
          "text": [
            "Training (1039 / 10000 Steps) (loss=0.55846): 100%|██████████| 52/52 [00:49<00:00,  1.05it/s]\n",
            "Validate (X / X Steps) (dice=X.X):   0%|          | 0/200 [00:42<?, ?it/s]\n",
            "Training (1091 / 10000 Steps) (loss=0.78820): 100%|██████████| 52/52 [00:24<00:00,  2.13it/s]\n",
            "Training (1143 / 10000 Steps) (loss=0.53944): 100%|██████████| 52/52 [00:23<00:00,  2.17it/s]\n",
            "Training (1195 / 10000 Steps) (loss=0.53098): 100%|██████████| 52/52 [00:24<00:00,  2.12it/s]\n",
            "Training (1247 / 10000 Steps) (loss=0.53373): 100%|██████████| 52/52 [00:24<00:00,  2.13it/s]\n",
            "Training (1299 / 10000 Steps) (loss=1.47687): 100%|██████████| 52/52 [00:24<00:00,  2.09it/s]\n",
            "Training (1351 / 10000 Steps) (loss=0.58982): 100%|██████████| 52/52 [00:23<00:00,  2.18it/s]\n",
            "Training (1403 / 10000 Steps) (loss=0.53114): 100%|██████████| 52/52 [00:24<00:00,  2.12it/s]\n",
            "Training (1455 / 10000 Steps) (loss=0.54144): 100%|██████████| 52/52 [00:24<00:00,  2.13it/s]\n",
            "Training (1500 / 10000 Steps) (loss=0.52493):  85%|████████▍ | 44/52 [00:21<00:04,  1.84it/s]\n",
            "Training (1500 / 10000 Steps) (loss=0.52493):  87%|████████▋ | 45/52 [00:45<00:54,  7.85s/it]"
          ]
        },
        {
          "name": "stdout",
          "output_type": "stream",
          "text": [
            "Model Was Not Saved ! Current Best Avg. Dice: 0.947231113910675 Current Avg. Dice: 0.947231113910675\n"
          ]
        },
        {
          "name": "stderr",
          "output_type": "stream",
          "text": [
            "Training (1507 / 10000 Steps) (loss=0.52281): 100%|██████████| 52/52 [00:49<00:00,  1.05it/s]\n",
            "Validate (X / X Steps) (dice=X.X):   0%|          | 0/200 [00:28<?, ?it/s]\n",
            "Training (1559 / 10000 Steps) (loss=0.53946): 100%|██████████| 52/52 [00:23<00:00,  2.17it/s]\n",
            "Training (1611 / 10000 Steps) (loss=0.54026): 100%|██████████| 52/52 [00:24<00:00,  2.14it/s]\n",
            "Training (1663 / 10000 Steps) (loss=0.54269): 100%|██████████| 52/52 [00:24<00:00,  2.14it/s]\n",
            "Training (1715 / 10000 Steps) (loss=0.51846): 100%|██████████| 52/52 [00:24<00:00,  2.13it/s]\n",
            "Training (1767 / 10000 Steps) (loss=0.52471): 100%|██████████| 52/52 [00:23<00:00,  2.18it/s]\n",
            "Training (1819 / 10000 Steps) (loss=0.51540): 100%|██████████| 52/52 [00:24<00:00,  2.12it/s]\n",
            "Training (1871 / 10000 Steps) (loss=0.54630): 100%|██████████| 52/52 [00:24<00:00,  2.13it/s]\n",
            "Training (1923 / 10000 Steps) (loss=0.51715): 100%|██████████| 52/52 [00:24<00:00,  2.16it/s]\n",
            "Training (1975 / 10000 Steps) (loss=0.63228): 100%|██████████| 52/52 [00:24<00:00,  2.16it/s]\n",
            "Training (2000 / 10000 Steps) (loss=0.52108):  46%|████▌     | 24/52 [00:13<00:12,  2.27it/s]\n",
            "Training (2000 / 10000 Steps) (loss=0.52108):  48%|████▊     | 25/52 [00:37<03:33,  7.90s/it]"
          ]
        },
        {
          "name": "stdout",
          "output_type": "stream",
          "text": [
            "Model Was Not Saved ! Current Best Avg. Dice: 0.947231113910675 Current Avg. Dice: 0.947231113910675\n"
          ]
        },
        {
          "name": "stderr",
          "output_type": "stream",
          "text": [
            "Training (2027 / 10000 Steps) (loss=0.51976): 100%|██████████| 52/52 [00:49<00:00,  1.06it/s]\n",
            "Validate (X / X Steps) (dice=X.X):   0%|          | 0/200 [00:35<?, ?it/s]\n",
            "Training (2079 / 10000 Steps) (loss=0.52230): 100%|██████████| 52/52 [00:24<00:00,  2.13it/s]\n",
            "Training (2131 / 10000 Steps) (loss=0.51622): 100%|██████████| 52/52 [00:24<00:00,  2.13it/s]\n",
            "Training (2183 / 10000 Steps) (loss=0.51564): 100%|██████████| 52/52 [00:23<00:00,  2.18it/s]\n",
            "Training (2235 / 10000 Steps) (loss=0.51419): 100%|██████████| 52/52 [00:24<00:00,  2.14it/s]\n",
            "Training (2287 / 10000 Steps) (loss=0.51700): 100%|██████████| 52/52 [00:24<00:00,  2.16it/s]\n",
            "Training (2339 / 10000 Steps) (loss=0.51292): 100%|██████████| 52/52 [00:24<00:00,  2.16it/s]\n",
            "Training (2391 / 10000 Steps) (loss=0.51886): 100%|██████████| 52/52 [00:23<00:00,  2.18it/s]\n",
            "Training (2443 / 10000 Steps) (loss=0.52406): 100%|██████████| 52/52 [00:24<00:00,  2.13it/s]\n",
            "Training (2495 / 10000 Steps) (loss=0.50963): 100%|██████████| 52/52 [00:24<00:00,  2.14it/s]\n",
            "Training (2500 / 10000 Steps) (loss=0.53404):   8%|▊         | 4/52 [00:02<00:26,  1.79it/s]\n",
            "Training (2500 / 10000 Steps) (loss=0.53404):  10%|▉         | 5/52 [00:27<07:23,  9.45s/it]"
          ]
        },
        {
          "name": "stdout",
          "output_type": "stream",
          "text": [
            "Model Was Not Saved ! Current Best Avg. Dice: 0.947231113910675 Current Avg. Dice: 0.9472296237945557\n"
          ]
        },
        {
          "name": "stderr",
          "output_type": "stream",
          "text": [
            "Training (2547 / 10000 Steps) (loss=0.51486): 100%|██████████| 52/52 [00:48<00:00,  1.07it/s]\n",
            "Validate (X / X Steps) (dice=X.X):   0%|          | 0/200 [00:46<?, ?it/s]\n",
            "Training (2599 / 10000 Steps) (loss=0.51744): 100%|██████████| 52/52 [00:23<00:00,  2.17it/s]\n",
            "Training (2651 / 10000 Steps) (loss=0.51260): 100%|██████████| 52/52 [00:24<00:00,  2.15it/s]\n",
            "Training (2703 / 10000 Steps) (loss=0.51184): 100%|██████████| 52/52 [00:24<00:00,  2.14it/s]\n",
            "Training (2755 / 10000 Steps) (loss=0.51750): 100%|██████████| 52/52 [00:23<00:00,  2.20it/s]\n",
            "Training (2807 / 10000 Steps) (loss=0.51224): 100%|██████████| 52/52 [00:23<00:00,  2.17it/s]\n",
            "Training (2859 / 10000 Steps) (loss=0.51116): 100%|██████████| 52/52 [00:24<00:00,  2.16it/s]\n",
            "Training (2911 / 10000 Steps) (loss=0.51644): 100%|██████████| 52/52 [00:24<00:00,  2.14it/s]\n",
            "Training (2963 / 10000 Steps) (loss=0.50843): 100%|██████████| 52/52 [00:24<00:00,  2.14it/s]\n",
            "Training (3000 / 10000 Steps) (loss=0.50785):  69%|██████▉   | 36/52 [00:17<00:05,  2.68it/s]\n",
            "Training (3000 / 10000 Steps) (loss=0.50785):  69%|██████▉   | 36/52 [00:23<00:10,  1.53it/s]\n"
          ]
        },
        {
          "ename": "KeyboardInterrupt",
          "evalue": "",
          "output_type": "error",
          "traceback": [
            "\u001b[0;31m---------------------------------------------------------------------------\u001b[0m",
            "\u001b[0;31mKeyboardInterrupt\u001b[0m                         Traceback (most recent call last)",
            "\u001b[0;32m/tmp/ipykernel_26/131600312.py\u001b[0m in \u001b[0;36m<module>\u001b[0;34m\u001b[0m\n\u001b[1;32m     71\u001b[0m \u001b[0;34m\u001b[0m\u001b[0m\n\u001b[1;32m     72\u001b[0m \u001b[0;32mwhile\u001b[0m \u001b[0;32mTrue\u001b[0m\u001b[0;34m:\u001b[0m\u001b[0;34m\u001b[0m\u001b[0;34m\u001b[0m\u001b[0m\n\u001b[0;32m---> 73\u001b[0;31m     \u001b[0mglobal_step\u001b[0m\u001b[0;34m,\u001b[0m \u001b[0mdice_val_best\u001b[0m\u001b[0;34m,\u001b[0m \u001b[0mglobal_step_best\u001b[0m \u001b[0;34m=\u001b[0m \u001b[0mtrain\u001b[0m\u001b[0;34m(\u001b[0m\u001b[0mglobal_step\u001b[0m\u001b[0;34m,\u001b[0m \u001b[0mtrain_loader\u001b[0m\u001b[0;34m,\u001b[0m \u001b[0mdice_val_best\u001b[0m\u001b[0;34m,\u001b[0m \u001b[0mglobal_step_best\u001b[0m\u001b[0;34m)\u001b[0m\u001b[0;34m\u001b[0m\u001b[0;34m\u001b[0m\u001b[0m\n\u001b[0m\u001b[1;32m     74\u001b[0m \u001b[0mmodel\u001b[0m\u001b[0;34m.\u001b[0m\u001b[0mload_state_dict\u001b[0m\u001b[0;34m(\u001b[0m\u001b[0mtorch\u001b[0m\u001b[0;34m.\u001b[0m\u001b[0mload\u001b[0m\u001b[0;34m(\u001b[0m\u001b[0mos\u001b[0m\u001b[0;34m.\u001b[0m\u001b[0mpath\u001b[0m\u001b[0;34m.\u001b[0m\u001b[0mjoin\u001b[0m\u001b[0;34m(\u001b[0m\u001b[0mroot_dir\u001b[0m\u001b[0;34m,\u001b[0m \u001b[0;34m\"best_metric_model.pth\"\u001b[0m\u001b[0;34m)\u001b[0m\u001b[0;34m)\u001b[0m\u001b[0;34m)\u001b[0m\u001b[0;34m\u001b[0m\u001b[0;34m\u001b[0m\u001b[0m\n\u001b[1;32m     75\u001b[0m \u001b[0mprint\u001b[0m\u001b[0;34m(\u001b[0m\u001b[0;34mf\"train completed, best_metric: {dice_val_best:.4f} \"\u001b[0m \u001b[0;34mf\"at iteration: {global_step_best}\"\u001b[0m\u001b[0;34m)\u001b[0m\u001b[0;34m\u001b[0m\u001b[0;34m\u001b[0m\u001b[0m\n",
            "\u001b[0;32m/tmp/ipykernel_26/131600312.py\u001b[0m in \u001b[0;36mtrain\u001b[0;34m(global_step, train_loader, dice_val_best, global_step_best)\u001b[0m\n\u001b[1;32m     34\u001b[0m         \u001b[0;32mif\u001b[0m \u001b[0;34m(\u001b[0m\u001b[0mglobal_step\u001b[0m \u001b[0;34m%\u001b[0m \u001b[0meval_num\u001b[0m \u001b[0;34m==\u001b[0m \u001b[0;36m0\u001b[0m \u001b[0;32mand\u001b[0m \u001b[0mglobal_step\u001b[0m \u001b[0;34m!=\u001b[0m \u001b[0;36m0\u001b[0m\u001b[0;34m)\u001b[0m \u001b[0;32mor\u001b[0m \u001b[0mglobal_step\u001b[0m \u001b[0;34m==\u001b[0m \u001b[0mmax_iterations\u001b[0m\u001b[0;34m:\u001b[0m\u001b[0;34m\u001b[0m\u001b[0;34m\u001b[0m\u001b[0m\n\u001b[1;32m     35\u001b[0m             \u001b[0mepoch_iterator_val\u001b[0m \u001b[0;34m=\u001b[0m \u001b[0mtqdm\u001b[0m\u001b[0;34m(\u001b[0m\u001b[0mval_loader1\u001b[0m\u001b[0;34m,\u001b[0m \u001b[0mdesc\u001b[0m\u001b[0;34m=\u001b[0m\u001b[0;34m\"Validate (X / X Steps) (dice=X.X)\"\u001b[0m\u001b[0;34m,\u001b[0m \u001b[0mdynamic_ncols\u001b[0m\u001b[0;34m=\u001b[0m\u001b[0;32mTrue\u001b[0m\u001b[0;34m)\u001b[0m\u001b[0;34m\u001b[0m\u001b[0;34m\u001b[0m\u001b[0m\n\u001b[0;32m---> 36\u001b[0;31m             \u001b[0mdice_val\u001b[0m \u001b[0;34m=\u001b[0m \u001b[0mvalidation\u001b[0m\u001b[0;34m(\u001b[0m\u001b[0mepoch_iterator_val\u001b[0m\u001b[0;34m)\u001b[0m\u001b[0;34m\u001b[0m\u001b[0;34m\u001b[0m\u001b[0m\n\u001b[0m\u001b[1;32m     37\u001b[0m             \u001b[0mepoch_loss\u001b[0m \u001b[0;34m/=\u001b[0m \u001b[0mstep\u001b[0m\u001b[0;34m\u001b[0m\u001b[0;34m\u001b[0m\u001b[0m\n\u001b[1;32m     38\u001b[0m             \u001b[0mepoch_loss_values\u001b[0m\u001b[0;34m.\u001b[0m\u001b[0mappend\u001b[0m\u001b[0;34m(\u001b[0m\u001b[0mepoch_loss\u001b[0m\u001b[0;34m)\u001b[0m\u001b[0;34m\u001b[0m\u001b[0;34m\u001b[0m\u001b[0m\n",
            "\u001b[0;32m/tmp/ipykernel_26/131600312.py\u001b[0m in \u001b[0;36mvalidation\u001b[0;34m(epoch_iterator_val)\u001b[0m\n\u001b[1;32m      4\u001b[0m     \u001b[0mval_outputs_convert\u001b[0m\u001b[0;34m=\u001b[0m\u001b[0;34m[\u001b[0m\u001b[0;34m]\u001b[0m\u001b[0;34m\u001b[0m\u001b[0;34m\u001b[0m\u001b[0m\n\u001b[1;32m      5\u001b[0m     \u001b[0;32mwith\u001b[0m \u001b[0mtorch\u001b[0m\u001b[0;34m.\u001b[0m\u001b[0mno_grad\u001b[0m\u001b[0;34m(\u001b[0m\u001b[0;34m)\u001b[0m\u001b[0;34m:\u001b[0m\u001b[0;34m\u001b[0m\u001b[0;34m\u001b[0m\u001b[0m\n\u001b[0;32m----> 6\u001b[0;31m         \u001b[0;32mfor\u001b[0m \u001b[0mstep\u001b[0m\u001b[0;34m,\u001b[0m\u001b[0mbatch\u001b[0m \u001b[0;32min\u001b[0m \u001b[0menumerate\u001b[0m\u001b[0;34m(\u001b[0m\u001b[0mzip\u001b[0m\u001b[0;34m(\u001b[0m\u001b[0mval_loader1\u001b[0m\u001b[0;34m,\u001b[0m\u001b[0mval_loader2\u001b[0m\u001b[0;34m)\u001b[0m\u001b[0;34m)\u001b[0m\u001b[0;34m:\u001b[0m\u001b[0;34m\u001b[0m\u001b[0;34m\u001b[0m\u001b[0m\n\u001b[0m\u001b[1;32m      7\u001b[0m             \u001b[0mval_inputs\u001b[0m\u001b[0;34m,\u001b[0m\u001b[0mval_labels\u001b[0m\u001b[0;34m=\u001b[0m\u001b[0mbatch\u001b[0m\u001b[0;34m\u001b[0m\u001b[0;34m\u001b[0m\u001b[0m\n\u001b[1;32m      8\u001b[0m             \u001b[0mval_inputs\u001b[0m\u001b[0;34m=\u001b[0m\u001b[0mval_inputs\u001b[0m\u001b[0;34m[\u001b[0m\u001b[0;32mNone\u001b[0m\u001b[0;34m,\u001b[0m\u001b[0;34m:\u001b[0m\u001b[0;34m,\u001b[0m\u001b[0;34m:\u001b[0m\u001b[0;34m,\u001b[0m\u001b[0;34m:\u001b[0m\u001b[0;34m,\u001b[0m\u001b[0;34m:\u001b[0m\u001b[0;34m]\u001b[0m\u001b[0;34m.\u001b[0m\u001b[0mto\u001b[0m\u001b[0;34m(\u001b[0m\u001b[0mdevice\u001b[0m\u001b[0;34m)\u001b[0m\u001b[0;34m\u001b[0m\u001b[0;34m\u001b[0m\u001b[0m\n",
            "\u001b[0;32m/opt/conda/lib/python3.7/site-packages/torch/utils/data/dataloader.py\u001b[0m in \u001b[0;36m__next__\u001b[0;34m(self)\u001b[0m\n\u001b[1;32m    528\u001b[0m             \u001b[0;32mif\u001b[0m \u001b[0mself\u001b[0m\u001b[0;34m.\u001b[0m\u001b[0m_sampler_iter\u001b[0m \u001b[0;32mis\u001b[0m \u001b[0;32mNone\u001b[0m\u001b[0;34m:\u001b[0m\u001b[0;34m\u001b[0m\u001b[0;34m\u001b[0m\u001b[0m\n\u001b[1;32m    529\u001b[0m                 \u001b[0mself\u001b[0m\u001b[0;34m.\u001b[0m\u001b[0m_reset\u001b[0m\u001b[0;34m(\u001b[0m\u001b[0;34m)\u001b[0m\u001b[0;34m\u001b[0m\u001b[0;34m\u001b[0m\u001b[0m\n\u001b[0;32m--> 530\u001b[0;31m             \u001b[0mdata\u001b[0m \u001b[0;34m=\u001b[0m \u001b[0mself\u001b[0m\u001b[0;34m.\u001b[0m\u001b[0m_next_data\u001b[0m\u001b[0;34m(\u001b[0m\u001b[0;34m)\u001b[0m\u001b[0;34m\u001b[0m\u001b[0;34m\u001b[0m\u001b[0m\n\u001b[0m\u001b[1;32m    531\u001b[0m             \u001b[0mself\u001b[0m\u001b[0;34m.\u001b[0m\u001b[0m_num_yielded\u001b[0m \u001b[0;34m+=\u001b[0m \u001b[0;36m1\u001b[0m\u001b[0;34m\u001b[0m\u001b[0;34m\u001b[0m\u001b[0m\n\u001b[1;32m    532\u001b[0m             \u001b[0;32mif\u001b[0m \u001b[0mself\u001b[0m\u001b[0;34m.\u001b[0m\u001b[0m_dataset_kind\u001b[0m \u001b[0;34m==\u001b[0m \u001b[0m_DatasetKind\u001b[0m\u001b[0;34m.\u001b[0m\u001b[0mIterable\u001b[0m \u001b[0;32mand\u001b[0m\u001b[0;31m \u001b[0m\u001b[0;31m\\\u001b[0m\u001b[0;34m\u001b[0m\u001b[0;34m\u001b[0m\u001b[0m\n",
            "\u001b[0;32m/opt/conda/lib/python3.7/site-packages/torch/utils/data/dataloader.py\u001b[0m in \u001b[0;36m_next_data\u001b[0;34m(self)\u001b[0m\n\u001b[1;32m   1205\u001b[0m \u001b[0;34m\u001b[0m\u001b[0m\n\u001b[1;32m   1206\u001b[0m             \u001b[0;32massert\u001b[0m \u001b[0;32mnot\u001b[0m \u001b[0mself\u001b[0m\u001b[0;34m.\u001b[0m\u001b[0m_shutdown\u001b[0m \u001b[0;32mand\u001b[0m \u001b[0mself\u001b[0m\u001b[0;34m.\u001b[0m\u001b[0m_tasks_outstanding\u001b[0m \u001b[0;34m>\u001b[0m \u001b[0;36m0\u001b[0m\u001b[0;34m\u001b[0m\u001b[0;34m\u001b[0m\u001b[0m\n\u001b[0;32m-> 1207\u001b[0;31m             \u001b[0midx\u001b[0m\u001b[0;34m,\u001b[0m \u001b[0mdata\u001b[0m \u001b[0;34m=\u001b[0m \u001b[0mself\u001b[0m\u001b[0;34m.\u001b[0m\u001b[0m_get_data\u001b[0m\u001b[0;34m(\u001b[0m\u001b[0;34m)\u001b[0m\u001b[0;34m\u001b[0m\u001b[0;34m\u001b[0m\u001b[0m\n\u001b[0m\u001b[1;32m   1208\u001b[0m             \u001b[0mself\u001b[0m\u001b[0;34m.\u001b[0m\u001b[0m_tasks_outstanding\u001b[0m \u001b[0;34m-=\u001b[0m \u001b[0;36m1\u001b[0m\u001b[0;34m\u001b[0m\u001b[0;34m\u001b[0m\u001b[0m\n\u001b[1;32m   1209\u001b[0m             \u001b[0;32mif\u001b[0m \u001b[0mself\u001b[0m\u001b[0;34m.\u001b[0m\u001b[0m_dataset_kind\u001b[0m \u001b[0;34m==\u001b[0m \u001b[0m_DatasetKind\u001b[0m\u001b[0;34m.\u001b[0m\u001b[0mIterable\u001b[0m\u001b[0;34m:\u001b[0m\u001b[0;34m\u001b[0m\u001b[0;34m\u001b[0m\u001b[0m\n",
            "\u001b[0;32m/opt/conda/lib/python3.7/site-packages/torch/utils/data/dataloader.py\u001b[0m in \u001b[0;36m_get_data\u001b[0;34m(self)\u001b[0m\n\u001b[1;32m   1171\u001b[0m         \u001b[0;32melse\u001b[0m\u001b[0;34m:\u001b[0m\u001b[0;34m\u001b[0m\u001b[0;34m\u001b[0m\u001b[0m\n\u001b[1;32m   1172\u001b[0m             \u001b[0;32mwhile\u001b[0m \u001b[0;32mTrue\u001b[0m\u001b[0;34m:\u001b[0m\u001b[0;34m\u001b[0m\u001b[0;34m\u001b[0m\u001b[0m\n\u001b[0;32m-> 1173\u001b[0;31m                 \u001b[0msuccess\u001b[0m\u001b[0;34m,\u001b[0m \u001b[0mdata\u001b[0m \u001b[0;34m=\u001b[0m \u001b[0mself\u001b[0m\u001b[0;34m.\u001b[0m\u001b[0m_try_get_data\u001b[0m\u001b[0;34m(\u001b[0m\u001b[0;34m)\u001b[0m\u001b[0;34m\u001b[0m\u001b[0;34m\u001b[0m\u001b[0m\n\u001b[0m\u001b[1;32m   1174\u001b[0m                 \u001b[0;32mif\u001b[0m \u001b[0msuccess\u001b[0m\u001b[0;34m:\u001b[0m\u001b[0;34m\u001b[0m\u001b[0;34m\u001b[0m\u001b[0m\n\u001b[1;32m   1175\u001b[0m                     \u001b[0;32mreturn\u001b[0m \u001b[0mdata\u001b[0m\u001b[0;34m\u001b[0m\u001b[0;34m\u001b[0m\u001b[0m\n",
            "\u001b[0;32m/opt/conda/lib/python3.7/site-packages/torch/utils/data/dataloader.py\u001b[0m in \u001b[0;36m_try_get_data\u001b[0;34m(self, timeout)\u001b[0m\n\u001b[1;32m   1009\u001b[0m         \u001b[0;31m#   (bool: whether successfully get data, any: data if successful else None)\u001b[0m\u001b[0;34m\u001b[0m\u001b[0;34m\u001b[0m\u001b[0;34m\u001b[0m\u001b[0m\n\u001b[1;32m   1010\u001b[0m         \u001b[0;32mtry\u001b[0m\u001b[0;34m:\u001b[0m\u001b[0;34m\u001b[0m\u001b[0;34m\u001b[0m\u001b[0m\n\u001b[0;32m-> 1011\u001b[0;31m             \u001b[0mdata\u001b[0m \u001b[0;34m=\u001b[0m \u001b[0mself\u001b[0m\u001b[0;34m.\u001b[0m\u001b[0m_data_queue\u001b[0m\u001b[0;34m.\u001b[0m\u001b[0mget\u001b[0m\u001b[0;34m(\u001b[0m\u001b[0mtimeout\u001b[0m\u001b[0;34m=\u001b[0m\u001b[0mtimeout\u001b[0m\u001b[0;34m)\u001b[0m\u001b[0;34m\u001b[0m\u001b[0;34m\u001b[0m\u001b[0m\n\u001b[0m\u001b[1;32m   1012\u001b[0m             \u001b[0;32mreturn\u001b[0m \u001b[0;34m(\u001b[0m\u001b[0;32mTrue\u001b[0m\u001b[0;34m,\u001b[0m \u001b[0mdata\u001b[0m\u001b[0;34m)\u001b[0m\u001b[0;34m\u001b[0m\u001b[0;34m\u001b[0m\u001b[0m\n\u001b[1;32m   1013\u001b[0m         \u001b[0;32mexcept\u001b[0m \u001b[0mException\u001b[0m \u001b[0;32mas\u001b[0m \u001b[0me\u001b[0m\u001b[0;34m:\u001b[0m\u001b[0;34m\u001b[0m\u001b[0;34m\u001b[0m\u001b[0m\n",
            "\u001b[0;32m/opt/conda/lib/python3.7/multiprocessing/queues.py\u001b[0m in \u001b[0;36mget\u001b[0;34m(self, block, timeout)\u001b[0m\n\u001b[1;32m    111\u001b[0m                 \u001b[0mself\u001b[0m\u001b[0;34m.\u001b[0m\u001b[0m_rlock\u001b[0m\u001b[0;34m.\u001b[0m\u001b[0mrelease\u001b[0m\u001b[0;34m(\u001b[0m\u001b[0;34m)\u001b[0m\u001b[0;34m\u001b[0m\u001b[0;34m\u001b[0m\u001b[0m\n\u001b[1;32m    112\u001b[0m         \u001b[0;31m# unserialize the data after having released the lock\u001b[0m\u001b[0;34m\u001b[0m\u001b[0;34m\u001b[0m\u001b[0;34m\u001b[0m\u001b[0m\n\u001b[0;32m--> 113\u001b[0;31m         \u001b[0;32mreturn\u001b[0m \u001b[0m_ForkingPickler\u001b[0m\u001b[0;34m.\u001b[0m\u001b[0mloads\u001b[0m\u001b[0;34m(\u001b[0m\u001b[0mres\u001b[0m\u001b[0;34m)\u001b[0m\u001b[0;34m\u001b[0m\u001b[0;34m\u001b[0m\u001b[0m\n\u001b[0m\u001b[1;32m    114\u001b[0m \u001b[0;34m\u001b[0m\u001b[0m\n\u001b[1;32m    115\u001b[0m     \u001b[0;32mdef\u001b[0m \u001b[0mqsize\u001b[0m\u001b[0;34m(\u001b[0m\u001b[0mself\u001b[0m\u001b[0;34m)\u001b[0m\u001b[0;34m:\u001b[0m\u001b[0;34m\u001b[0m\u001b[0;34m\u001b[0m\u001b[0m\n",
            "\u001b[0;32m/opt/conda/lib/python3.7/site-packages/torch/multiprocessing/reductions.py\u001b[0m in \u001b[0;36mrebuild_storage_fd\u001b[0;34m(cls, df, size)\u001b[0m\n\u001b[1;32m    293\u001b[0m \u001b[0;34m\u001b[0m\u001b[0m\n\u001b[1;32m    294\u001b[0m \u001b[0;32mdef\u001b[0m \u001b[0mrebuild_storage_fd\u001b[0m\u001b[0;34m(\u001b[0m\u001b[0mcls\u001b[0m\u001b[0;34m,\u001b[0m \u001b[0mdf\u001b[0m\u001b[0;34m,\u001b[0m \u001b[0msize\u001b[0m\u001b[0;34m)\u001b[0m\u001b[0;34m:\u001b[0m\u001b[0;34m\u001b[0m\u001b[0;34m\u001b[0m\u001b[0m\n\u001b[0;32m--> 295\u001b[0;31m     \u001b[0mfd\u001b[0m \u001b[0;34m=\u001b[0m \u001b[0mdf\u001b[0m\u001b[0;34m.\u001b[0m\u001b[0mdetach\u001b[0m\u001b[0;34m(\u001b[0m\u001b[0;34m)\u001b[0m\u001b[0;34m\u001b[0m\u001b[0;34m\u001b[0m\u001b[0m\n\u001b[0m\u001b[1;32m    296\u001b[0m     \u001b[0;32mtry\u001b[0m\u001b[0;34m:\u001b[0m\u001b[0;34m\u001b[0m\u001b[0;34m\u001b[0m\u001b[0m\n\u001b[1;32m    297\u001b[0m         \u001b[0mstorage\u001b[0m \u001b[0;34m=\u001b[0m \u001b[0mstorage_from_cache\u001b[0m\u001b[0;34m(\u001b[0m\u001b[0mcls\u001b[0m\u001b[0;34m,\u001b[0m \u001b[0mfd_id\u001b[0m\u001b[0;34m(\u001b[0m\u001b[0mfd\u001b[0m\u001b[0;34m)\u001b[0m\u001b[0;34m)\u001b[0m\u001b[0;34m\u001b[0m\u001b[0;34m\u001b[0m\u001b[0m\n",
            "\u001b[0;32m/opt/conda/lib/python3.7/multiprocessing/resource_sharer.py\u001b[0m in \u001b[0;36mdetach\u001b[0;34m(self)\u001b[0m\n\u001b[1;32m     55\u001b[0m         \u001b[0;32mdef\u001b[0m \u001b[0mdetach\u001b[0m\u001b[0;34m(\u001b[0m\u001b[0mself\u001b[0m\u001b[0;34m)\u001b[0m\u001b[0;34m:\u001b[0m\u001b[0;34m\u001b[0m\u001b[0;34m\u001b[0m\u001b[0m\n\u001b[1;32m     56\u001b[0m             \u001b[0;34m'''Get the fd.  This should only be called once.'''\u001b[0m\u001b[0;34m\u001b[0m\u001b[0;34m\u001b[0m\u001b[0m\n\u001b[0;32m---> 57\u001b[0;31m             \u001b[0;32mwith\u001b[0m \u001b[0m_resource_sharer\u001b[0m\u001b[0;34m.\u001b[0m\u001b[0mget_connection\u001b[0m\u001b[0;34m(\u001b[0m\u001b[0mself\u001b[0m\u001b[0;34m.\u001b[0m\u001b[0m_id\u001b[0m\u001b[0;34m)\u001b[0m \u001b[0;32mas\u001b[0m \u001b[0mconn\u001b[0m\u001b[0;34m:\u001b[0m\u001b[0;34m\u001b[0m\u001b[0;34m\u001b[0m\u001b[0m\n\u001b[0m\u001b[1;32m     58\u001b[0m                 \u001b[0;32mreturn\u001b[0m \u001b[0mreduction\u001b[0m\u001b[0;34m.\u001b[0m\u001b[0mrecv_handle\u001b[0m\u001b[0;34m(\u001b[0m\u001b[0mconn\u001b[0m\u001b[0;34m)\u001b[0m\u001b[0;34m\u001b[0m\u001b[0;34m\u001b[0m\u001b[0m\n\u001b[1;32m     59\u001b[0m \u001b[0;34m\u001b[0m\u001b[0m\n",
            "\u001b[0;32m/opt/conda/lib/python3.7/multiprocessing/resource_sharer.py\u001b[0m in \u001b[0;36mget_connection\u001b[0;34m(ident)\u001b[0m\n\u001b[1;32m     85\u001b[0m         \u001b[0;32mfrom\u001b[0m \u001b[0;34m.\u001b[0m\u001b[0mconnection\u001b[0m \u001b[0;32mimport\u001b[0m \u001b[0mClient\u001b[0m\u001b[0;34m\u001b[0m\u001b[0;34m\u001b[0m\u001b[0m\n\u001b[1;32m     86\u001b[0m         \u001b[0maddress\u001b[0m\u001b[0;34m,\u001b[0m \u001b[0mkey\u001b[0m \u001b[0;34m=\u001b[0m \u001b[0mident\u001b[0m\u001b[0;34m\u001b[0m\u001b[0;34m\u001b[0m\u001b[0m\n\u001b[0;32m---> 87\u001b[0;31m         \u001b[0mc\u001b[0m \u001b[0;34m=\u001b[0m \u001b[0mClient\u001b[0m\u001b[0;34m(\u001b[0m\u001b[0maddress\u001b[0m\u001b[0;34m,\u001b[0m \u001b[0mauthkey\u001b[0m\u001b[0;34m=\u001b[0m\u001b[0mprocess\u001b[0m\u001b[0;34m.\u001b[0m\u001b[0mcurrent_process\u001b[0m\u001b[0;34m(\u001b[0m\u001b[0;34m)\u001b[0m\u001b[0;34m.\u001b[0m\u001b[0mauthkey\u001b[0m\u001b[0;34m)\u001b[0m\u001b[0;34m\u001b[0m\u001b[0;34m\u001b[0m\u001b[0m\n\u001b[0m\u001b[1;32m     88\u001b[0m         \u001b[0mc\u001b[0m\u001b[0;34m.\u001b[0m\u001b[0msend\u001b[0m\u001b[0;34m(\u001b[0m\u001b[0;34m(\u001b[0m\u001b[0mkey\u001b[0m\u001b[0;34m,\u001b[0m \u001b[0mos\u001b[0m\u001b[0;34m.\u001b[0m\u001b[0mgetpid\u001b[0m\u001b[0;34m(\u001b[0m\u001b[0;34m)\u001b[0m\u001b[0;34m)\u001b[0m\u001b[0;34m)\u001b[0m\u001b[0;34m\u001b[0m\u001b[0;34m\u001b[0m\u001b[0m\n\u001b[1;32m     89\u001b[0m         \u001b[0;32mreturn\u001b[0m \u001b[0mc\u001b[0m\u001b[0;34m\u001b[0m\u001b[0;34m\u001b[0m\u001b[0m\n",
            "\u001b[0;32m/opt/conda/lib/python3.7/multiprocessing/connection.py\u001b[0m in \u001b[0;36mClient\u001b[0;34m(address, family, authkey)\u001b[0m\n\u001b[1;32m    496\u001b[0m \u001b[0;34m\u001b[0m\u001b[0m\n\u001b[1;32m    497\u001b[0m     \u001b[0;32mif\u001b[0m \u001b[0mauthkey\u001b[0m \u001b[0;32mis\u001b[0m \u001b[0;32mnot\u001b[0m \u001b[0;32mNone\u001b[0m\u001b[0;34m:\u001b[0m\u001b[0;34m\u001b[0m\u001b[0;34m\u001b[0m\u001b[0m\n\u001b[0;32m--> 498\u001b[0;31m         \u001b[0manswer_challenge\u001b[0m\u001b[0;34m(\u001b[0m\u001b[0mc\u001b[0m\u001b[0;34m,\u001b[0m \u001b[0mauthkey\u001b[0m\u001b[0;34m)\u001b[0m\u001b[0;34m\u001b[0m\u001b[0;34m\u001b[0m\u001b[0m\n\u001b[0m\u001b[1;32m    499\u001b[0m         \u001b[0mdeliver_challenge\u001b[0m\u001b[0;34m(\u001b[0m\u001b[0mc\u001b[0m\u001b[0;34m,\u001b[0m \u001b[0mauthkey\u001b[0m\u001b[0;34m)\u001b[0m\u001b[0;34m\u001b[0m\u001b[0;34m\u001b[0m\u001b[0m\n\u001b[1;32m    500\u001b[0m \u001b[0;34m\u001b[0m\u001b[0m\n",
            "\u001b[0;32m/opt/conda/lib/python3.7/multiprocessing/connection.py\u001b[0m in \u001b[0;36manswer_challenge\u001b[0;34m(connection, authkey)\u001b[0m\n\u001b[1;32m    740\u001b[0m         raise ValueError(\n\u001b[1;32m    741\u001b[0m             \"Authkey must be bytes, not {0!s}\".format(type(authkey)))\n\u001b[0;32m--> 742\u001b[0;31m     \u001b[0mmessage\u001b[0m \u001b[0;34m=\u001b[0m \u001b[0mconnection\u001b[0m\u001b[0;34m.\u001b[0m\u001b[0mrecv_bytes\u001b[0m\u001b[0;34m(\u001b[0m\u001b[0;36m256\u001b[0m\u001b[0;34m)\u001b[0m         \u001b[0;31m# reject large message\u001b[0m\u001b[0;34m\u001b[0m\u001b[0;34m\u001b[0m\u001b[0m\n\u001b[0m\u001b[1;32m    743\u001b[0m     \u001b[0;32massert\u001b[0m \u001b[0mmessage\u001b[0m\u001b[0;34m[\u001b[0m\u001b[0;34m:\u001b[0m\u001b[0mlen\u001b[0m\u001b[0;34m(\u001b[0m\u001b[0mCHALLENGE\u001b[0m\u001b[0;34m)\u001b[0m\u001b[0;34m]\u001b[0m \u001b[0;34m==\u001b[0m \u001b[0mCHALLENGE\u001b[0m\u001b[0;34m,\u001b[0m \u001b[0;34m'message = %r'\u001b[0m \u001b[0;34m%\u001b[0m \u001b[0mmessage\u001b[0m\u001b[0;34m\u001b[0m\u001b[0;34m\u001b[0m\u001b[0m\n\u001b[1;32m    744\u001b[0m     \u001b[0mmessage\u001b[0m \u001b[0;34m=\u001b[0m \u001b[0mmessage\u001b[0m\u001b[0;34m[\u001b[0m\u001b[0mlen\u001b[0m\u001b[0;34m(\u001b[0m\u001b[0mCHALLENGE\u001b[0m\u001b[0;34m)\u001b[0m\u001b[0;34m:\u001b[0m\u001b[0;34m]\u001b[0m\u001b[0;34m\u001b[0m\u001b[0;34m\u001b[0m\u001b[0m\n",
            "\u001b[0;32m/opt/conda/lib/python3.7/multiprocessing/connection.py\u001b[0m in \u001b[0;36mrecv_bytes\u001b[0;34m(self, maxlength)\u001b[0m\n\u001b[1;32m    214\u001b[0m         \u001b[0;32mif\u001b[0m \u001b[0mmaxlength\u001b[0m \u001b[0;32mis\u001b[0m \u001b[0;32mnot\u001b[0m \u001b[0;32mNone\u001b[0m \u001b[0;32mand\u001b[0m \u001b[0mmaxlength\u001b[0m \u001b[0;34m<\u001b[0m \u001b[0;36m0\u001b[0m\u001b[0;34m:\u001b[0m\u001b[0;34m\u001b[0m\u001b[0;34m\u001b[0m\u001b[0m\n\u001b[1;32m    215\u001b[0m             \u001b[0;32mraise\u001b[0m \u001b[0mValueError\u001b[0m\u001b[0;34m(\u001b[0m\u001b[0;34m\"negative maxlength\"\u001b[0m\u001b[0;34m)\u001b[0m\u001b[0;34m\u001b[0m\u001b[0;34m\u001b[0m\u001b[0m\n\u001b[0;32m--> 216\u001b[0;31m         \u001b[0mbuf\u001b[0m \u001b[0;34m=\u001b[0m \u001b[0mself\u001b[0m\u001b[0;34m.\u001b[0m\u001b[0m_recv_bytes\u001b[0m\u001b[0;34m(\u001b[0m\u001b[0mmaxlength\u001b[0m\u001b[0;34m)\u001b[0m\u001b[0;34m\u001b[0m\u001b[0;34m\u001b[0m\u001b[0m\n\u001b[0m\u001b[1;32m    217\u001b[0m         \u001b[0;32mif\u001b[0m \u001b[0mbuf\u001b[0m \u001b[0;32mis\u001b[0m \u001b[0;32mNone\u001b[0m\u001b[0;34m:\u001b[0m\u001b[0;34m\u001b[0m\u001b[0;34m\u001b[0m\u001b[0m\n\u001b[1;32m    218\u001b[0m             \u001b[0mself\u001b[0m\u001b[0;34m.\u001b[0m\u001b[0m_bad_message_length\u001b[0m\u001b[0;34m(\u001b[0m\u001b[0;34m)\u001b[0m\u001b[0;34m\u001b[0m\u001b[0;34m\u001b[0m\u001b[0m\n",
            "\u001b[0;32m/opt/conda/lib/python3.7/multiprocessing/connection.py\u001b[0m in \u001b[0;36m_recv_bytes\u001b[0;34m(self, maxsize)\u001b[0m\n\u001b[1;32m    405\u001b[0m \u001b[0;34m\u001b[0m\u001b[0m\n\u001b[1;32m    406\u001b[0m     \u001b[0;32mdef\u001b[0m \u001b[0m_recv_bytes\u001b[0m\u001b[0;34m(\u001b[0m\u001b[0mself\u001b[0m\u001b[0;34m,\u001b[0m \u001b[0mmaxsize\u001b[0m\u001b[0;34m=\u001b[0m\u001b[0;32mNone\u001b[0m\u001b[0;34m)\u001b[0m\u001b[0;34m:\u001b[0m\u001b[0;34m\u001b[0m\u001b[0;34m\u001b[0m\u001b[0m\n\u001b[0;32m--> 407\u001b[0;31m         \u001b[0mbuf\u001b[0m \u001b[0;34m=\u001b[0m \u001b[0mself\u001b[0m\u001b[0;34m.\u001b[0m\u001b[0m_recv\u001b[0m\u001b[0;34m(\u001b[0m\u001b[0;36m4\u001b[0m\u001b[0;34m)\u001b[0m\u001b[0;34m\u001b[0m\u001b[0;34m\u001b[0m\u001b[0m\n\u001b[0m\u001b[1;32m    408\u001b[0m         \u001b[0msize\u001b[0m\u001b[0;34m,\u001b[0m \u001b[0;34m=\u001b[0m \u001b[0mstruct\u001b[0m\u001b[0;34m.\u001b[0m\u001b[0munpack\u001b[0m\u001b[0;34m(\u001b[0m\u001b[0;34m\"!i\"\u001b[0m\u001b[0;34m,\u001b[0m \u001b[0mbuf\u001b[0m\u001b[0;34m.\u001b[0m\u001b[0mgetvalue\u001b[0m\u001b[0;34m(\u001b[0m\u001b[0;34m)\u001b[0m\u001b[0;34m)\u001b[0m\u001b[0;34m\u001b[0m\u001b[0;34m\u001b[0m\u001b[0m\n\u001b[1;32m    409\u001b[0m         \u001b[0;32mif\u001b[0m \u001b[0mmaxsize\u001b[0m \u001b[0;32mis\u001b[0m \u001b[0;32mnot\u001b[0m \u001b[0;32mNone\u001b[0m \u001b[0;32mand\u001b[0m \u001b[0msize\u001b[0m \u001b[0;34m>\u001b[0m \u001b[0mmaxsize\u001b[0m\u001b[0;34m:\u001b[0m\u001b[0;34m\u001b[0m\u001b[0;34m\u001b[0m\u001b[0m\n",
            "\u001b[0;32m/opt/conda/lib/python3.7/multiprocessing/connection.py\u001b[0m in \u001b[0;36m_recv\u001b[0;34m(self, size, read)\u001b[0m\n\u001b[1;32m    377\u001b[0m         \u001b[0mremaining\u001b[0m \u001b[0;34m=\u001b[0m \u001b[0msize\u001b[0m\u001b[0;34m\u001b[0m\u001b[0;34m\u001b[0m\u001b[0m\n\u001b[1;32m    378\u001b[0m         \u001b[0;32mwhile\u001b[0m \u001b[0mremaining\u001b[0m \u001b[0;34m>\u001b[0m \u001b[0;36m0\u001b[0m\u001b[0;34m:\u001b[0m\u001b[0;34m\u001b[0m\u001b[0;34m\u001b[0m\u001b[0m\n\u001b[0;32m--> 379\u001b[0;31m             \u001b[0mchunk\u001b[0m \u001b[0;34m=\u001b[0m \u001b[0mread\u001b[0m\u001b[0;34m(\u001b[0m\u001b[0mhandle\u001b[0m\u001b[0;34m,\u001b[0m \u001b[0mremaining\u001b[0m\u001b[0;34m)\u001b[0m\u001b[0;34m\u001b[0m\u001b[0;34m\u001b[0m\u001b[0m\n\u001b[0m\u001b[1;32m    380\u001b[0m             \u001b[0mn\u001b[0m \u001b[0;34m=\u001b[0m \u001b[0mlen\u001b[0m\u001b[0;34m(\u001b[0m\u001b[0mchunk\u001b[0m\u001b[0;34m)\u001b[0m\u001b[0;34m\u001b[0m\u001b[0;34m\u001b[0m\u001b[0m\n\u001b[1;32m    381\u001b[0m             \u001b[0;32mif\u001b[0m \u001b[0mn\u001b[0m \u001b[0;34m==\u001b[0m \u001b[0;36m0\u001b[0m\u001b[0;34m:\u001b[0m\u001b[0;34m\u001b[0m\u001b[0;34m\u001b[0m\u001b[0m\n",
            "\u001b[0;31mKeyboardInterrupt\u001b[0m: "
          ]
        }
      ],
      "source": [
        "def validation(epoch_iterator_val):\n",
        "    model.eval()\n",
        "    val_labels_convert=[]\n",
        "    val_outputs_convert=[]1`\n",
        "    with torch.no_grad():\n",
        "        for step,batch in enumerate(zip(val_loader1,val_loader2)):\n",
        "            val_inputs,val_labels=batch\n",
        "            val_inputs=val_inputs[None,:,:,:,:].to(device)\n",
        "            val_labels=val_labels[ None,:, :,:,:].to(device)\n",
        "            val_outputs = model(val_inputs)\n",
        "            val_labels_convert.append(post_label(decollate_batch(val_labels)[0])[0])\n",
        "            val_outputs_convert.append(post_pred(decollate_batch(val_outputs)[0])[0])\n",
        "        dice_metric(y_pred=val_outputs_convert, y=val_labels_convert)\n",
        "        mean_dice_val = dice_metric.aggregate().item()\n",
        "        dice_metric.reset()\n",
        "    return mean_dice_val\n",
        "\n",
        "\n",
        "def train(global_step, train_loader, dice_val_best, global_step_best):\n",
        "    #model.train()\n",
        "    epoch_loss = 0\n",
        "    step = 0\n",
        "    epoch_iterator = tqdm(train_loader, desc=\"Training (X / X Steps) (loss=X.X)\", dynamic_ncols=True)\n",
        "    for step, batch in enumerate(epoch_iterator):\n",
        "        step += 1\n",
        "        x, y = (batch[\"image\"].to(device), batch[\"label\"].to(device))\n",
        "        logit_map = model(x)\n",
        "        loss = loss_function(logit_map, y)\n",
        "        loss.backward()\n",
        "        epoch_loss += loss.item()\n",
        "        optimizer.step()\n",
        "        optimizer.zero_grad()\n",
        "        epoch_iterator.set_description(\"Training (%d / %d Steps) (loss=%2.5f)\" % (global_step, max_iterations, loss))\n",
        "        if (global_step % eval_num == 0 and global_step != 0) or global_step == max_iterations:\n",
        "            epoch_iterator_val = tqdm(val_loader1, desc=\"Validate (X / X Steps) (dice=X.X)\", dynamic_ncols=True)\n",
        "            dice_val = validation(epoch_iterator_val)\n",
        "            epoch_loss /= step\n",
        "            epoch_loss_values.append(epoch_loss)\n",
        "            metric_values.append(dice_val)\n",
        "            if dice_val > dice_val_best:\n",
        "                dice_val_best = dice_val\n",
        "                global_step_best = global_step\n",
        "                torch.save(model.state_dict(), os.path.join(root_dir, \"best_metric_model.pth\"))\n",
        "                print(\n",
        "                        \"Model Was Saved ! Current Best Avg. Dice: {} Current Avg. Dice: {}\".format(dice_val_best, dice_val)\n",
        "                    )\n",
        "            else:\n",
        "                    print(\n",
        "                        \"Model Was Not Saved ! Current Best Avg. Dice: {} Current Avg. Dice: {}\".format(\n",
        "                            dice_val_best, dice_val\n",
        "                        )\n",
        "                    )\n",
        "        global_step += 1\n",
        "    return global_step, dice_val_best, global_step_best\n",
        "\n",
        "max_iterations = 10000\n",
        "eval_num = 500\n",
        "\n",
        "post_label = AsDiscrete(to_onehot=3)\n",
        "post_pred = AsDiscrete(argmax=True, to_onehot=3)\n",
        "dice_metric = DiceMetric(include_background=True, reduction=\"mean\", get_not_nans=False)\n",
        "global_step = 0\n",
        "dice_val_best = 0.0\n",
        "global_step_best = 0\n",
        "epoch_loss_values = []\n",
        "metric_values = []\n",
        "#model.load_state_dict(torch.load('/kaggle/input/liver/pytorch/liver_patch_32/1/best_metric_model.pth'))\n",
        "#model.load_state_dict(torch.load(os.path.join(root_dir, \"best_metric_model.pth\")))\n",
        "#model.eval()\n",
        "\n",
        "\n",
        "while True:\n",
        "    global_step, dice_val_best, global_step_best = train(global_step, train_loader, dice_val_best, global_step_best)\n",
        "model.load_state_dict(torch.load(os.path.join(root_dir, \"best_metric_model.pth\")))\n",
        "print(f\"train completed, best_metric: {dice_val_best:.4f} \" f\"at iteration: {global_step_best}\")"
      ]
    },
    {
      "cell_type": "code",
      "execution_count": null,
      "metadata": {
        "_kg_hide-input": false,
        "execution": {
          "iopub.execute_input": "2024-06-04T15:32:40.976134Z",
          "iopub.status.busy": "2024-06-04T15:32:40.9751Z",
          "iopub.status.idle": "2024-06-04T15:32:41.016375Z",
          "shell.execute_reply": "2024-06-04T15:32:41.015322Z",
          "shell.execute_reply.started": "2024-06-04T15:32:40.976089Z"
        },
        "id": "HzYzGvB5Kyqp",
        "outputId": "fc9b585b-816f-414d-afca-f11383560e3f",
        "trusted": true
      },
      "outputs": [
        {
          "data": {
            "text/plain": [
              "UNet(\n",
              "  (model): Sequential(\n",
              "    (0): Convolution(\n",
              "      (conv): Conv3d(1, 16, kernel_size=(3, 3, 3), stride=(2, 2, 2), padding=(1, 1, 1))\n",
              "      (adn): ADN(\n",
              "        (N): InstanceNorm3d(16, eps=1e-05, momentum=0.1, affine=False, track_running_stats=False)\n",
              "        (D): Dropout(p=0.0, inplace=False)\n",
              "        (A): PReLU(num_parameters=1)\n",
              "      )\n",
              "    )\n",
              "    (1): SkipConnection(\n",
              "      (submodule): Sequential(\n",
              "        (0): Convolution(\n",
              "          (conv): Conv3d(16, 32, kernel_size=(3, 3, 3), stride=(2, 2, 2), padding=(1, 1, 1))\n",
              "          (adn): ADN(\n",
              "            (N): InstanceNorm3d(32, eps=1e-05, momentum=0.1, affine=False, track_running_stats=False)\n",
              "            (D): Dropout(p=0.0, inplace=False)\n",
              "            (A): PReLU(num_parameters=1)\n",
              "          )\n",
              "        )\n",
              "        (1): SkipConnection(\n",
              "          (submodule): Sequential(\n",
              "            (0): Convolution(\n",
              "              (conv): Conv3d(32, 64, kernel_size=(3, 3, 3), stride=(2, 2, 2), padding=(1, 1, 1))\n",
              "              (adn): ADN(\n",
              "                (N): InstanceNorm3d(64, eps=1e-05, momentum=0.1, affine=False, track_running_stats=False)\n",
              "                (D): Dropout(p=0.0, inplace=False)\n",
              "                (A): PReLU(num_parameters=1)\n",
              "              )\n",
              "            )\n",
              "            (1): SkipConnection(\n",
              "              (submodule): Sequential(\n",
              "                (0): Convolution(\n",
              "                  (conv): Conv3d(64, 128, kernel_size=(3, 3, 3), stride=(2, 2, 2), padding=(1, 1, 1))\n",
              "                  (adn): ADN(\n",
              "                    (N): InstanceNorm3d(128, eps=1e-05, momentum=0.1, affine=False, track_running_stats=False)\n",
              "                    (D): Dropout(p=0.0, inplace=False)\n",
              "                    (A): PReLU(num_parameters=1)\n",
              "                  )\n",
              "                )\n",
              "                (1): SkipConnection(\n",
              "                  (submodule): Sequential(\n",
              "                    (0): Convolution(\n",
              "                      (conv): Conv3d(128, 256, kernel_size=(3, 3, 3), stride=(2, 2, 2), padding=(1, 1, 1))\n",
              "                      (adn): ADN(\n",
              "                        (N): InstanceNorm3d(256, eps=1e-05, momentum=0.1, affine=False, track_running_stats=False)\n",
              "                        (D): Dropout(p=0.0, inplace=False)\n",
              "                        (A): PReLU(num_parameters=1)\n",
              "                      )\n",
              "                    )\n",
              "                    (1): SkipConnection(\n",
              "                      (submodule): Convolution(\n",
              "                        (conv): Conv3d(256, 512, kernel_size=(3, 3, 3), stride=(1, 1, 1), padding=(1, 1, 1))\n",
              "                        (adn): ADN(\n",
              "                          (N): InstanceNorm3d(512, eps=1e-05, momentum=0.1, affine=False, track_running_stats=False)\n",
              "                          (D): Dropout(p=0.0, inplace=False)\n",
              "                          (A): PReLU(num_parameters=1)\n",
              "                        )\n",
              "                      )\n",
              "                    )\n",
              "                    (2): Convolution(\n",
              "                      (conv): ConvTranspose3d(768, 128, kernel_size=(3, 3, 3), stride=(2, 2, 2), padding=(1, 1, 1), output_padding=(1, 1, 1))\n",
              "                      (adn): ADN(\n",
              "                        (N): InstanceNorm3d(128, eps=1e-05, momentum=0.1, affine=False, track_running_stats=False)\n",
              "                        (D): Dropout(p=0.0, inplace=False)\n",
              "                        (A): PReLU(num_parameters=1)\n",
              "                      )\n",
              "                    )\n",
              "                  )\n",
              "                )\n",
              "                (2): Convolution(\n",
              "                  (conv): ConvTranspose3d(256, 64, kernel_size=(3, 3, 3), stride=(2, 2, 2), padding=(1, 1, 1), output_padding=(1, 1, 1))\n",
              "                  (adn): ADN(\n",
              "                    (N): InstanceNorm3d(64, eps=1e-05, momentum=0.1, affine=False, track_running_stats=False)\n",
              "                    (D): Dropout(p=0.0, inplace=False)\n",
              "                    (A): PReLU(num_parameters=1)\n",
              "                  )\n",
              "                )\n",
              "              )\n",
              "            )\n",
              "            (2): Convolution(\n",
              "              (conv): ConvTranspose3d(128, 32, kernel_size=(3, 3, 3), stride=(2, 2, 2), padding=(1, 1, 1), output_padding=(1, 1, 1))\n",
              "              (adn): ADN(\n",
              "                (N): InstanceNorm3d(32, eps=1e-05, momentum=0.1, affine=False, track_running_stats=False)\n",
              "                (D): Dropout(p=0.0, inplace=False)\n",
              "                (A): PReLU(num_parameters=1)\n",
              "              )\n",
              "            )\n",
              "          )\n",
              "        )\n",
              "        (2): Convolution(\n",
              "          (conv): ConvTranspose3d(64, 16, kernel_size=(3, 3, 3), stride=(2, 2, 2), padding=(1, 1, 1), output_padding=(1, 1, 1))\n",
              "          (adn): ADN(\n",
              "            (N): InstanceNorm3d(16, eps=1e-05, momentum=0.1, affine=False, track_running_stats=False)\n",
              "            (D): Dropout(p=0.0, inplace=False)\n",
              "            (A): PReLU(num_parameters=1)\n",
              "          )\n",
              "        )\n",
              "      )\n",
              "    )\n",
              "    (2): Convolution(\n",
              "      (conv): ConvTranspose3d(32, 2, kernel_size=(3, 3, 3), stride=(2, 2, 2), padding=(1, 1, 1), output_padding=(1, 1, 1))\n",
              "    )\n",
              "  )\n",
              ")"
            ]
          },
          "execution_count": 19,
          "metadata": {},
          "output_type": "execute_result"
        }
      ],
      "source": [
        "model.load_state_dict(torch.load(os.path.join(root_dir, \"best_metric_model.pth\")))\n",
        "model.eval()"
      ]
    },
    {
      "cell_type": "code",
      "execution_count": null,
      "metadata": {
        "_kg_hide-input": false,
        "execution": {
          "iopub.execute_input": "2024-06-04T15:32:45.393991Z",
          "iopub.status.busy": "2024-06-04T15:32:45.393576Z",
          "iopub.status.idle": "2024-06-04T15:32:45.405643Z",
          "shell.execute_reply": "2024-06-04T15:32:45.40432Z",
          "shell.execute_reply.started": "2024-06-04T15:32:45.393951Z"
        },
        "id": "vf4i1Fi9Kyqp",
        "outputId": "dbac6f76-f026-41e4-f983-22a70695cae0",
        "trusted": true
      },
      "outputs": [
        {
          "name": "stderr",
          "output_type": "stream",
          "text": [
            "/opt/conda/lib/python3.7/site-packages/monai/utils/deprecate_utils.py:321: FutureWarning: monai.transforms.io.dictionary LoadImaged.__init__:image_only: Current default value of argument `image_only=False` has been deprecated since version 1.1. It will be changed to `image_only=True` in version 1.3.\n",
            "  warn_deprecated(argname, msg, warning_category)\n"
          ]
        }
      ],
      "source": [
        "#val_loader = DataLoader(train_ds, batch_size=1, shuffle=True)\n",
        "test_transforms = Compose(\n",
        "    [\n",
        "        LoadImaged(keys=[\"image\", \"label\"]),\n",
        "        EnsureChannelFirstd(keys=[\"image\", \"label\"]),\n",
        "        Orientationd(keys=[\"image\", \"label\"], axcodes=\"RAS\"),\n",
        "\n",
        "        ScaleIntensityRanged(keys=[\"image\"], a_min=-57, a_max=164, b_min=0.0, b_max=1.0, clip=True),\n",
        "        #CropForegroundd(keys=[\"image\", \"label\"], source_key=\"image\"),\n",
        "    ]\n",
        ")\n",
        "test_ds =Dataset(\n",
        "    data=test_files,\n",
        "    transform=test_transforms,\n",
        ")\n"
      ]
    },
    {
      "cell_type": "code",
      "execution_count": null,
      "metadata": {
        "_kg_hide-input": false,
        "execution": {
          "iopub.execute_input": "2024-06-04T15:41:33.394306Z",
          "iopub.status.busy": "2024-06-04T15:41:33.393153Z",
          "iopub.status.idle": "2024-06-04T15:41:35.708914Z",
          "shell.execute_reply": "2024-06-04T15:41:35.707461Z",
          "shell.execute_reply.started": "2024-06-04T15:41:33.394261Z"
        },
        "id": "-0ceNP6dKyqp",
        "trusted": true
      },
      "outputs": [],
      "source": [
        "import numpy as np\n",
        "from monai.data import PatchDataset, DataLoader, PatchIter\n",
        "def get_inds(img):\n",
        "    inds=[]\n",
        "    if img.shape[0]==1:\n",
        "        img=img[0]\n",
        "    x,y,z=img.shape\n",
        "    for i in range(127,x,128):\n",
        "        for j in range(127,y,128):\n",
        "            for k in range(31,z,32):\n",
        "                inds.append([i,j,k])\n",
        "\n",
        "    return inds\n",
        "\n",
        "\n",
        "img = test_ds[0][\"image\"].cuda()\n",
        "indsf=get_inds(img)\n",
        "label=torch.tensor(np.zeros(img.shape)).cuda()\n",
        "for ind  in indsf:\n",
        "    i,j,k=ind\n",
        "    x=img[None,:,i-127:i+1,j-127:j+1,k-31:k+1]\n",
        "    label[0,i-127:i+1,j-127:j+1,k-31:k+1]=torch.argmax(model(x),axis=1)\n"
      ]
    },
    {
      "cell_type": "code",
      "execution_count": null,
      "metadata": {
        "_kg_hide-input": false,
        "execution": {
          "iopub.execute_input": "2024-06-04T15:41:37.953977Z",
          "iopub.status.busy": "2024-06-04T15:41:37.952647Z",
          "iopub.status.idle": "2024-06-04T15:41:40.100666Z",
          "shell.execute_reply": "2024-06-04T15:41:40.099597Z",
          "shell.execute_reply.started": "2024-06-04T15:41:37.953913Z"
        },
        "id": "7RvGpM3eKyqq",
        "trusted": true
      },
      "outputs": [],
      "source": [
        "\n",
        "\n",
        "plt.figure(\"image\", (18, 6))\n",
        "plt.subplot(1, 3, 1)\n",
        "plt.imshow(img[0,:, :, -40].detach().cpu(), cmap=\"gray\")\n",
        "plt.subplot(1, 3, 2)\n",
        "plt.imshow(test_ds[0][\"label\"][0,:, :, -40].detach().cpu())\n",
        "plt.subplot(1, 3, 3)\n",
        "\n",
        "plt.imshow(label[0,:, :,-40].detach().cpu())\n",
        "plt.show()\n",
        "\n"
      ]
    }
  ],
  "metadata": {
    "colab": {
      "provenance": []
    },
    "kaggle": {
      "accelerator": "nvidiaTeslaT4",
      "dataSources": [
        {
          "datasetId": 767686,
          "sourceId": 1327578,
          "sourceType": "datasetVersion"
        },
        {
          "datasetId": 769463,
          "sourceId": 1327590,
          "sourceType": "datasetVersion"
        },
        {
          "modelInstanceId": 18096,
          "sourceId": 21854,
          "sourceType": "modelInstanceVersion"
        }
      ],
      "dockerImageVersionId": 30370,
      "isGpuEnabled": true,
      "isInternetEnabled": true,
      "language": "python",
      "sourceType": "notebook"
    },
    "kernelspec": {
      "display_name": "Python 3",
      "language": "python",
      "name": "python3"
    },
    "language_info": {
      "codemirror_mode": {
        "name": "ipython",
        "version": 3
      },
      "file_extension": ".py",
      "mimetype": "text/x-python",
      "name": "python",
      "nbconvert_exporter": "python",
      "pygments_lexer": "ipython3",
      "version": "3.7.12"
    }
  },
  "nbformat": 4,
  "nbformat_minor": 0
}

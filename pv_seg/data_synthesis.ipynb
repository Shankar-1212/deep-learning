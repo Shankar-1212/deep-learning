{
  "nbformat": 4,
  "nbformat_minor": 0,
  "metadata": {
    "colab": {
      "provenance": []
    },
    "kernelspec": {
      "name": "python3",
      "display_name": "Python 3"
    },
    "language_info": {
      "name": "python"
    }
  },
  "cells": [
    {
      "cell_type": "markdown",
      "source": [
        "monitoring gpu"
      ],
      "metadata": {
        "id": "xuTPE878KOBI"
      }
    },
    {
      "cell_type": "code",
      "execution_count": null,
      "metadata": {
        "id": "GKLElTmWIGBo"
      },
      "outputs": [],
      "source": [
        "!nvidia-smi"
      ]
    },
    {
      "cell_type": "markdown",
      "source": [
        "dependencies"
      ],
      "metadata": {
        "id": "oFPzZbL4JJHH"
      }
    },
    {
      "cell_type": "code",
      "source": [
        "!pip install opendatasets==0.1.22\n",
        "!pip install diffusers\n",
        "!pip install transformers==4.25.1\n",
        "!pip install scipy==1.7.3\n",
        "!pip install ftfy==6.1.1\n",
        "!pip install \"ipywidgets>=7,<8\"\n",
        "!pip install accelerate==0.15.0\n",
        "!pip install tensorflow>=2.9"
      ],
      "metadata": {
        "id": "HxCArBunIm_0"
      },
      "execution_count": null,
      "outputs": []
    },
    {
      "cell_type": "code",
      "source": [
        "pip install -q --upgrade accelerate"
      ],
      "metadata": {
        "id": "PQWh6Xi4IosY"
      },
      "execution_count": null,
      "outputs": []
    },
    {
      "cell_type": "code",
      "source": [
        "!pip install transformers --upgrade"
      ],
      "metadata": {
        "id": "k3RENUCIIq66"
      },
      "execution_count": null,
      "outputs": []
    },
    {
      "cell_type": "markdown",
      "source": [
        "kills the runtime\n",
        "\n"
      ],
      "metadata": {
        "id": "CGUFq94rI87h"
      }
    },
    {
      "cell_type": "code",
      "source": [
        "import os\n",
        "os.kill(os.getpid(), 9)\n"
      ],
      "metadata": {
        "id": "5dvs6quQIsT-"
      },
      "execution_count": null,
      "outputs": []
    },
    {
      "cell_type": "markdown",
      "source": [
        "importing librarires"
      ],
      "metadata": {
        "id": "z5D3SB0eIv04"
      }
    },
    {
      "cell_type": "code",
      "source": [
        "import os\n",
        "import sys\n",
        "import numpy as np\n",
        "import re\n",
        "import cv2\n",
        "import matplotlib.pyplot as plt\n",
        "import torch\n",
        "import tensorflow as tf\n",
        "from diffusers import StableDiffusionInpaintPipeline\n",
        "import PIL\n",
        "from huggingface_hub import notebook_login\n",
        "from google.colab import output"
      ],
      "metadata": {
        "id": "R9Xnhfz4IvIu"
      },
      "execution_count": null,
      "outputs": []
    },
    {
      "cell_type": "code",
      "source": [
        "output.enable_custom_widget_manager()"
      ],
      "metadata": {
        "id": "zaTagOKDJNLq"
      },
      "execution_count": null,
      "outputs": []
    },
    {
      "cell_type": "code",
      "source": [
        "INPUT_SHAPE = 128"
      ],
      "metadata": {
        "id": "31WLW9pPJNju"
      },
      "execution_count": null,
      "outputs": []
    },
    {
      "cell_type": "markdown",
      "source": [
        "use the huggingface token here"
      ],
      "metadata": {
        "id": "wRNeyYJrJX8D"
      }
    },
    {
      "cell_type": "code",
      "source": [
        "notebook_login()"
      ],
      "metadata": {
        "id": "rUm3Ur8eJPIq"
      },
      "execution_count": null,
      "outputs": []
    },
    {
      "cell_type": "markdown",
      "source": [
        "connect drive"
      ],
      "metadata": {
        "id": "ccH_riX9KEHY"
      }
    },
    {
      "cell_type": "code",
      "source": [
        "from google.colab import drive\n",
        "drive.mount('/content/drive')"
      ],
      "metadata": {
        "id": "apr6AhefJWtm"
      },
      "execution_count": null,
      "outputs": []
    },
    {
      "cell_type": "markdown",
      "source": [
        "DataSynthesis"
      ],
      "metadata": {
        "id": "T4RN8m74JfXP"
      }
    },
    {
      "cell_type": "code",
      "source": [
        "import torch\n",
        "import cv2\n",
        "import PIL\n",
        "from diffusers import *\n",
        "from diffusers import utils\n",
        "from diffusers import DiffusionPipeline, DPMSolverMultistepScheduler\n",
        "from diffusers.utils import load_image, make_image_grid\n",
        "\n",
        "\n",
        "def get_images(image_path, mask_path):\n",
        "\n",
        "  original_mask = cv2.imread(mask_path)\n",
        "\n",
        "\n",
        "    # Thresholding on the grayscale version of the mask image\n",
        "  _, im_bw = cv2.threshold(cv2.cvtColor(original_mask, cv2.COLOR_BGR2GRAY), 128, 255, cv2.THRESH_BINARY | cv2.THRESH_OTSU)\n",
        "\n",
        "    # Save the thresholded image with the same filename as the mask imageL\n",
        "  cv2.imwrite(mask_path, im_bw)\n",
        "  fixed_mask = cv2.imread(mask_path)\n",
        "\n",
        "\n",
        "    # Apply blurring to the mask image\n",
        "  blur = cv2.blur(fixed_mask, (15, 15), 0)\n",
        "  cv2.imwrite(\"tmp-blur.bmp\", blur)\n",
        "\n",
        "  blurred_image = PIL.Image.open(\"tmp-blur.bmp\").convert(\"RGB\").resize((512, 512))\n",
        "  normal_image = PIL.Image.open(image_path).convert(\"RGB\").resize((512, 512))\n",
        "\n",
        "  # Initialize the Stable Diffusion pipeline\n",
        "  repo_id = \"stabilityai/stable-diffusion-2-inpainting\"\n",
        "  pipe = DiffusionPipeline.from_pretrained(repo_id, torch_dtype=torch.float16, revision=\"fp16\")\n",
        "  pipe.scheduler = DPMSolverMultistepScheduler.from_config(pipe.scheduler.config)\n",
        "  pipe = pipe.to(\"cuda\")\n",
        "\n",
        "  # Prompt(background and negative)\n",
        "  #  negative prompt - a way to use Stable Diffusion in a way that allows the user to specify what he doesn't want to see, without any extra input.\n",
        "  BACKGROUND_PROMPT= \"Overhead satellite photograph of a densely packed urban city with rooftops,metropolitan city, roads, highway, medium-high spatial resolution, it should cover 300m,  4K, satellite image, buildings, extremely detailed, photorealistic,highlighting the intricate textures of weathered metal, sun-bleached tiles\"\n",
        "  BACKGROUND_NEGATIVE_PROMPT =\"grid, box, plastic-like appearance, flat lighting, unnatural highlights, artificial panels, cartoonish, stylized, pixelated, smooth textures, uniform colors, lack of shadows\"\n",
        "\n",
        "  inverted_m = PIL.ImageOps.invert(PIL.Image.open(mask_path).convert(\"RGB\").resize((512, 512)))\n",
        "\n",
        "  no_panel_image = pipe(prompt=BACKGROUND_PROMPT, image=normal_image, mask_image=blurred_image, num_inference_steps=25).images[0]\n",
        "  modified_image = pipe(prompt=BACKGROUND_PROMPT, negative_prompt=BACKGROUND_NEGATIVE_PROMPT, image=no_panel_image, mask_image=inverted_m , num_inference_steps=100).images[0]\n",
        "  modified_image.paste(normal_image, mask=PIL.Image.open(mask_path).convert(\"RGB\").resize((512, 512)).convert('L'))\n",
        "\n",
        "  #returns modified_image and mask\n",
        "  return modified_image, PIL.Image.open(mask_path).convert(\"RGB\").resize((512, 512))"
      ],
      "metadata": {
        "id": "L0dBwR0xJeRg"
      },
      "execution_count": null,
      "outputs": []
    },
    {
      "cell_type": "markdown",
      "source": [
        "function call"
      ],
      "metadata": {
        "id": "F86U-q_uJ0L5"
      }
    },
    {
      "cell_type": "code",
      "source": [
        "modd_image,orm_image=get_images(\"/content/drive/MyDrive/pv/PV03/PV03_Rooftop/PV03_314658_1199334.bmp\",\"/content/drive/MyDrive/pv/PV03/PV03_Rooftop/PV03_314658_1199334_label.bmp\")"
      ],
      "metadata": {
        "id": "OfC4ZumYJyjD"
      },
      "execution_count": null,
      "outputs": []
    }
  ]
}